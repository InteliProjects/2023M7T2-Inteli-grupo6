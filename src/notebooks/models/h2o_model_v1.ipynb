{
 "cells": [
  {
   "cell_type": "markdown",
   "metadata": {},
   "source": [
    "## Importando todas as bibliotecas e dependências.\n"
   ]
  },
  {
   "cell_type": "code",
   "execution_count": 9,
   "metadata": {},
   "outputs": [],
   "source": [
    "import os\n",
    "import h2o\n",
    "import pandas as pd\n",
    "from datetime import datetime\n",
    "from h2o.automl import H2OAutoML"
   ]
  },
  {
   "cell_type": "markdown",
   "metadata": {},
   "source": [
    "## Método que processa os dados de voo e os transforma em uma linha (.parquet)\n"
   ]
  },
  {
   "cell_type": "code",
   "execution_count": 10,
   "metadata": {},
   "outputs": [],
   "source": [
    "agg_methods = {\n",
    "    \"amscHprsovDrivF-1a\": \"sum\",\n",
    "    \"amscHprsovDrivF-1b\":\"sum\",\n",
    "    \"amscHprsovDrivF-2b\":\"sum\",\n",
    "    \"amscPrsovDrivF-1a\":\"sum\",\n",
    "    \"amscPrsovDrivF-1b\":\"sum\",\n",
    "    \"amscPrsovDrivF-2b\":\"sum\",\n",
    "    \"basBleedLowPressF-1a\":\"sum\",\n",
    "    \"basBleedLowPressF-2b\":\"sum\",\n",
    "    \"basBleedLowTempF-1a\":\"sum\",\n",
    "    \"basBleedLowTempF-2b\":\"sum\",\n",
    "    \"basBleedOverPressF-1a\":\"sum\",\n",
    "    \"basBleedOverPressF-2b\":\"sum\",\n",
    "    \"basBleedOverTempF-1a\":\"sum\",\n",
    "    \"basBleedOverTempF-2b\":\"sum\",\n",
    "    \"bleedFavTmCmd-1a\":\"sum\",\n",
    "    \"bleedFavTmCmd-1b\": \"max\",\n",
    "    \"bleedFavTmCmd-2a\":\"sum\",\n",
    "    \"bleedFavTmCmd-2b\":\"sum\",\n",
    "    \"bleedFavTmFbk-1a\":\"max\",\n",
    "    \"bleedFavTmFbk-1b\": \"max\",\n",
    "    \"bleedFavTmFbk-2b\":\"max\",\n",
    "    \"bleedHprsovCmdStatus-1a\":\"sum\",\n",
    "    \"bleedHprsovCmdStatus-1b\":\"sum\",\n",
    "    \"bleedHprsovCmdStatus-2a\":\"sum\",\n",
    "    \"bleedHprsovCmdStatus-2b\":\"sum\",\n",
    "    \"bleedHprsovOpPosStatus-1a\":\"sum\",\n",
    "    \"bleedHprsovOpPosStatus-1b\":\"sum\",\n",
    "    \"bleedHprsovOpPosStatus-2a\":\"sum\",\n",
    "    \"bleedHprsovOpPosStatus-2b\":\"sum\",\n",
    "    \"bleedMonPress-1a\":\"max\",\n",
    "    \"bleedMonPress-1b\":\"max\",\n",
    "    \"bleedMonPress-2a\":\"max\",\n",
    "    \"bleedMonPress-2b\":\"max\",\n",
    "    \"bleedOnStatus-1a\":\"sum\",\n",
    "    \"bleedOnStatus-1b\":\"sum\",\n",
    "    \"bleedOnStatus-2b\":\"sum\",\n",
    "    \"bleedOverpressCas-2a\":\"sum\",\n",
    "    \"bleedOverpressCas-2b\":\"sum\",\n",
    "    \"bleedPrecoolDiffPress-1a\":\"max\",\n",
    "    \"bleedPrecoolDiffPress-1b\":\"max\",\n",
    "    \"bleedPrecoolDiffPress-2a\":\"max\",\n",
    "    \"bleedPrecoolDiffPress-2b\":\"max\",\n",
    "    \"bleedPrsovClPosStatus-1a\":\"sum\",\n",
    "    \"bleedPrsovClPosStatus-2a\":\"sum\",\n",
    "    \"bleedPrsovFbk-1a\":\"sum\",\n",
    "    'message0422DAA-1':\"max\",\n",
    "    'message0418DAA-1':\"max\",\n",
    "    # You can use 'sum', 'max', 'min', 'median' as aggregation methods.\n",
    "}"
   ]
  },
  {
   "cell_type": "markdown",
   "metadata": {},
   "source": [
    "## Nome após o processo de ETL"
   ]
  },
  {
   "cell_type": "code",
   "execution_count": 12,
   "metadata": {},
   "outputs": [],
   "source": [
    "filtered_cols = [\n",
    "    \"amscHprsovDrivF-1a\",\n",
    "    \"amscHprsovDrivF-1b\",\n",
    "    \"amscHprsovDrivF-2b\",\n",
    "    \"amscPrsovDrivF-1a\",\n",
    "    \"amscPrsovDrivF-1b\",\n",
    "    \"amscPrsovDrivF-2b\",\n",
    "    \"basBleedLowPressF-1a\",\n",
    "    \"basBleedLowPressF-2b\",\n",
    "    \"basBleedLowTempF-1a\",\n",
    "    \"basBleedLowTempF-2b\",\n",
    "    \"basBleedOverPressF-1a\",\n",
    "    \"basBleedOverPressF-2b\",\n",
    "    \"basBleedOverTempF-1a\",\n",
    "    \"basBleedOverTempF-2b\",\n",
    "    \"bleedFavTmCmd-1a\",\n",
    "    \"bleedFavTmCmd-1b\",\n",
    "    \"bleedFavTmCmd-2a\",\n",
    "    \"bleedFavTmCmd-2b\",\n",
    "    \"bleedFavTmFbk-1a\",\n",
    "    \"bleedFavTmFbk-1b\",\n",
    "    \"bleedFavTmFbk-2b\",\n",
    "    \"bleedHprsovCmdStatus-1a\",\n",
    "    \"bleedHprsovCmdStatus-1b\",\n",
    "    \"bleedHprsovCmdStatus-2a\",\n",
    "    \"bleedHprsovCmdStatus-2b\",\n",
    "    \"bleedHprsovOpPosStatus-1a\",\n",
    "    \"bleedHprsovOpPosStatus-1b\",\n",
    "    \"bleedHprsovOpPosStatus-2a\",\n",
    "    \"bleedHprsovOpPosStatus-2b\",\n",
    "    \"bleedMonPress-1a\",\n",
    "    \"bleedMonPress-1b\",\n",
    "    \"bleedMonPress-2a\",\n",
    "    \"bleedMonPress-2b\",\n",
    "    \"bleedOnStatus-1a\",\n",
    "    \"bleedOnStatus-1b\",\n",
    "    \"bleedOnStatus-2b\",\n",
    "    \"bleedOverpressCas-2a\",\n",
    "    \"bleedOverpressCas-2b\",\n",
    "    \"bleedPrecoolDiffPress-1a\",\n",
    "    \"bleedPrecoolDiffPress-1b\",\n",
    "    \"bleedPrecoolDiffPress-2a\",\n",
    "    \"bleedPrecoolDiffPress-2b\",\n",
    "    \"bleedPrsovClPosStatus-1a\",\n",
    "    \"bleedPrsovClPosStatus-2a\",\n",
    "    \"bleedPrsovFbk-1a\",\n",
    "    'message0422DAA-1',\n",
    "    'message0418DAA-1',\n",
    "]"
   ]
  },
  {
   "cell_type": "markdown",
   "metadata": {},
   "source": [
    "## Setup para o tratamento e a respectiva saída"
   ]
  },
  {
   "cell_type": "code",
   "execution_count": 13,
   "metadata": {},
   "outputs": [
    {
     "name": "stdout",
     "output_type": "stream",
     "text": [
      "./output/output_20230825105431.csv\n"
     ]
    }
   ],
   "source": [
    "directory = './parquets' # It's the directory that contains the parquet files. [ Requirement ]\n",
    "output_directory = './output' # It's the directory that contains the output files. [ Requirement ]\n",
    "\n",
    "if not os.path.exists(output_directory):\n",
    "    os.makedirs(output_directory)\n",
    "\n",
    "timestamp = datetime.now().strftime('%Y%m%d%H%M%S')\n",
    "output_file_name = f'output_{timestamp}.csv'\n",
    "output_file_path = os.path.join(output_directory, output_file_name)\n",
    "print(output_file_path)"
   ]
  },
  {
   "cell_type": "markdown",
   "metadata": {},
   "source": [
    "## Tratamento e a respectiva saída"
   ]
  },
  {
   "cell_type": "code",
   "execution_count": 14,
   "metadata": {},
   "outputs": [
    {
     "name": "stdout",
     "output_type": "stream",
     "text": [
      "New parquet not found\n"
     ]
    }
   ],
   "source": [
    "try:\n",
    "    for subdir, _, files in os.walk(directory):\n",
    "        for file in files:\n",
    "            file_path = os.path.join(subdir, file)\n",
    "            df = pd.read_parquet(file_path)\n",
    "            df = df[filtered_cols]\n",
    "            aggregated_data = df.agg(agg_methods)\n",
    "            aggregated_data.to_frame().T.to_csv(output_file_path, mode='a', header=False, index=False)\n",
    "except:\n",
    "    print('New parquet not found')"
   ]
  },
  {
   "cell_type": "markdown",
   "metadata": {},
   "source": [
    "## Adicionando o nome das colunas"
   ]
  },
  {
   "cell_type": "code",
   "execution_count": 15,
   "metadata": {},
   "outputs": [],
   "source": [
    "df = pd.read_csv(output_file_path)\n",
    "df.columns = filtered_cols\n",
    "df.to_csv(output_file_path, index=False)"
   ]
  },
  {
   "cell_type": "markdown",
   "metadata": {},
   "source": [
    "## Aplicação do AutoML"
   ]
  },
  {
   "cell_type": "code",
   "execution_count": 21,
   "metadata": {},
   "outputs": [
    {
     "name": "stdout",
     "output_type": "stream",
     "text": [
      "Parse progress: |████████████████████████████████████████████████████████████████| (done) 100%\n",
      "AutoML progress: |\n",
      "11:06:25.998: _train param, Dropping bad and constant columns: [basBleedOverPressF-1a, basBleedOverPressF-2b, bleedOverpressCas-2b, bleedOverpressCas-2a, amscHprsovDrivF-1a, amscHprsovDrivF-2b, amscPrsovDrivF-1b, amscHprsovDrivF-1b, amscPrsovDrivF-1a, amscPrsovDrivF-2b, basBleedOverTempF-1a, basBleedLowPressF-1a, basBleedLowPressF-2b, basBleedLowTempF-1a, basBleedLowTempF-2b]\n",
      "\n",
      "█\n",
      "11:06:29.767: _train param, Dropping bad and constant columns: [basBleedOverPressF-1a, basBleedOverPressF-2b, bleedOverpressCas-2b, bleedOverpressCas-2a, amscHprsovDrivF-1a, amscHprsovDrivF-2b, amscPrsovDrivF-1b, amscHprsovDrivF-1b, amscPrsovDrivF-1a, amscPrsovDrivF-2b, basBleedOverTempF-1a, basBleedLowPressF-1a, basBleedLowPressF-2b, basBleedLowTempF-1a, basBleedLowTempF-2b]\n",
      "\n",
      "█\n",
      "11:06:30.680: _train param, Dropping bad and constant columns: [basBleedOverPressF-1a, basBleedOverPressF-2b, bleedOverpressCas-2b, bleedOverpressCas-2a, amscHprsovDrivF-1a, amscHprsovDrivF-2b, amscPrsovDrivF-1b, amscHprsovDrivF-1b, amscPrsovDrivF-1a, amscPrsovDrivF-2b, basBleedOverTempF-1a, basBleedLowPressF-1a, basBleedLowPressF-2b, basBleedLowTempF-1a, basBleedLowTempF-2b]\n",
      "11:06:30.680: _min_rows param, The dataset size is too small to split for min_rows=100.0: must have at least 200.0 (weighted) rows, but have only 76.0.\n",
      "11:06:30.697: _train param, Dropping unused columns: [basBleedOverPressF-1a, basBleedOverPressF-2b, bleedOverpressCas-2b, bleedOverpressCas-2a, amscHprsovDrivF-1a, amscHprsovDrivF-2b, amscPrsovDrivF-1b, amscHprsovDrivF-1b, amscPrsovDrivF-1a, amscPrsovDrivF-2b, basBleedOverTempF-1a, basBleedLowPressF-1a, basBleedLowPressF-2b, basBleedLowTempF-1a, basBleedLowTempF-2b]\n",
      "11:06:31.145: _train param, Dropping bad and constant columns: [basBleedOverPressF-1a, basBleedOverPressF-2b, bleedOverpressCas-2b, bleedOverpressCas-2a, amscHprsovDrivF-1a, amscHprsovDrivF-2b, amscPrsovDrivF-1b, amscHprsovDrivF-1b, amscPrsovDrivF-1a, amscPrsovDrivF-2b, basBleedOverTempF-1a, basBleedLowPressF-1a, basBleedLowPressF-2b, basBleedLowTempF-1a, basBleedLowTempF-2b]\n",
      "11:06:31.909: _train param, Dropping bad and constant columns: [basBleedOverPressF-1a, basBleedOverPressF-2b, bleedOverpressCas-2b, bleedOverpressCas-2a, amscHprsovDrivF-1a, amscHprsovDrivF-2b, amscPrsovDrivF-1b, amscHprsovDrivF-1b, amscPrsovDrivF-1a, amscPrsovDrivF-2b, basBleedOverTempF-1a, basBleedLowPressF-1a, basBleedLowPressF-2b, basBleedLowTempF-1a, basBleedLowTempF-2b]\n",
      "11:06:32.563: _train param, Dropping bad and constant columns: [basBleedOverPressF-1a, basBleedOverPressF-2b, bleedOverpressCas-2b, bleedOverpressCas-2a, amscHprsovDrivF-1a, amscHprsovDrivF-2b, amscPrsovDrivF-1b, amscHprsovDrivF-1b, amscPrsovDrivF-1a, amscPrsovDrivF-2b, basBleedOverTempF-1a, basBleedLowPressF-1a, basBleedLowPressF-2b, basBleedLowTempF-1a, basBleedLowTempF-2b]\n",
      "\n",
      "█████\n",
      "11:06:39.577: _train param, Dropping bad and constant columns: [basBleedOverPressF-1a, basBleedOverPressF-2b, bleedOverpressCas-2b, bleedOverpressCas-2a, amscHprsovDrivF-1a, amscHprsovDrivF-2b, amscPrsovDrivF-1b, amscHprsovDrivF-1b, amscPrsovDrivF-1a, amscPrsovDrivF-2b, basBleedOverTempF-1a, basBleedLowPressF-1a, basBleedLowPressF-2b, basBleedLowTempF-1a, basBleedLowTempF-2b]\n",
      "\n",
      "██\n",
      "11:06:45.245: _train param, Dropping bad and constant columns: [basBleedOverPressF-1a, basBleedOverPressF-2b, bleedOverpressCas-2b, bleedOverpressCas-2a, amscHprsovDrivF-1a, amscHprsovDrivF-2b, amscPrsovDrivF-1b, amscHprsovDrivF-1b, amscPrsovDrivF-1a, amscPrsovDrivF-2b, basBleedOverTempF-1a, basBleedLowPressF-1a, basBleedLowPressF-2b, basBleedLowTempF-1a, basBleedLowTempF-2b]\n",
      "\n",
      "█\n",
      "11:06:49.91: _train param, Dropping unused columns: [basBleedOverPressF-1a, basBleedOverPressF-2b, bleedOverpressCas-2b, bleedOverpressCas-2a, amscHprsovDrivF-1a, amscHprsovDrivF-2b, amscPrsovDrivF-1b, amscHprsovDrivF-1b, amscPrsovDrivF-1a, amscPrsovDrivF-2b, basBleedOverTempF-1a, basBleedLowPressF-1a, basBleedLowPressF-2b, basBleedLowTempF-1a, basBleedLowTempF-2b]\n",
      "11:06:49.306: _train param, Dropping unused columns: [basBleedOverPressF-1a, basBleedOverPressF-2b, bleedOverpressCas-2b, bleedOverpressCas-2a, amscHprsovDrivF-1a, amscHprsovDrivF-2b, amscPrsovDrivF-1b, amscHprsovDrivF-1b, amscPrsovDrivF-1a, amscPrsovDrivF-2b, basBleedOverTempF-1a, basBleedLowPressF-1a, basBleedLowPressF-2b, basBleedLowTempF-1a, basBleedLowTempF-2b]\n",
      "11:06:49.521: _train param, Dropping bad and constant columns: [basBleedOverPressF-1a, basBleedOverPressF-2b, bleedOverpressCas-2b, bleedOverpressCas-2a, amscHprsovDrivF-1a, amscHprsovDrivF-2b, amscPrsovDrivF-1b, amscHprsovDrivF-1b, amscPrsovDrivF-1a, amscPrsovDrivF-2b, basBleedOverTempF-1a, basBleedLowPressF-1a, basBleedLowPressF-2b, basBleedLowTempF-1a, basBleedLowTempF-2b]\n",
      "11:06:49.912: _train param, Dropping bad and constant columns: [basBleedOverPressF-1a, basBleedOverPressF-2b, bleedOverpressCas-2b, bleedOverpressCas-2a, amscHprsovDrivF-1a, amscHprsovDrivF-2b, amscPrsovDrivF-1b, amscHprsovDrivF-1b, amscPrsovDrivF-1a, amscPrsovDrivF-2b, basBleedOverTempF-1a, basBleedLowPressF-1a, basBleedLowPressF-2b, basBleedLowTempF-1a, basBleedLowTempF-2b]\n",
      "\n",
      "\n",
      "11:06:50.534: _train param, Dropping bad and constant columns: [basBleedOverPressF-1a, basBleedOverPressF-2b, bleedOverpressCas-2b, bleedOverpressCas-2a, amscHprsovDrivF-1a, amscHprsovDrivF-2b, amscPrsovDrivF-1b, amscHprsovDrivF-1b, amscPrsovDrivF-1a, amscPrsovDrivF-2b, basBleedOverTempF-1a, basBleedLowPressF-1a, basBleedLowPressF-2b, basBleedLowTempF-1a, basBleedLowTempF-2b]\n",
      "\n",
      "█\n",
      "11:06:52.913: _train param, Dropping bad and constant columns: [basBleedOverPressF-1a, basBleedOverPressF-2b, bleedOverpressCas-2b, bleedOverpressCas-2a, amscHprsovDrivF-1a, amscHprsovDrivF-2b, amscPrsovDrivF-1b, amscHprsovDrivF-1b, amscPrsovDrivF-1a, amscPrsovDrivF-2b, basBleedOverTempF-1a, basBleedLowPressF-1a, basBleedLowPressF-2b, basBleedLowTempF-1a, basBleedLowTempF-2b]\n",
      "\n",
      "█\n",
      "11:06:53.428: _train param, Dropping unused columns: [basBleedOverPressF-1a, basBleedOverPressF-2b, bleedOverpressCas-2b, bleedOverpressCas-2a, amscHprsovDrivF-1a, amscHprsovDrivF-2b, amscPrsovDrivF-1b, amscHprsovDrivF-1b, amscPrsovDrivF-1a, amscPrsovDrivF-2b, basBleedOverTempF-1a, basBleedLowPressF-1a, basBleedLowPressF-2b, basBleedLowTempF-1a, basBleedLowTempF-2b]\n",
      "11:06:53.645: _train param, Dropping unused columns: [basBleedOverPressF-1a, basBleedOverPressF-2b, bleedOverpressCas-2b, bleedOverpressCas-2a, amscHprsovDrivF-1a, amscHprsovDrivF-2b, amscPrsovDrivF-1b, amscHprsovDrivF-1b, amscPrsovDrivF-1a, amscPrsovDrivF-2b, basBleedOverTempF-1a, basBleedLowPressF-1a, basBleedLowPressF-2b, basBleedLowTempF-1a, basBleedLowTempF-2b]\n",
      "\n",
      "██████████████████████████████████████████████████\n",
      "11:47:19.715: _train param, Dropping unused columns: [basBleedOverPressF-1a, basBleedOverPressF-2b, bleedOverpressCas-2b, bleedOverpressCas-2a, amscHprsovDrivF-1a, amscHprsovDrivF-2b, amscPrsovDrivF-1b, amscHprsovDrivF-1b, amscPrsovDrivF-1a, amscPrsovDrivF-2b, basBleedOverTempF-1a, basBleedLowPressF-1a, basBleedLowPressF-2b, basBleedLowTempF-1a, basBleedLowTempF-2b]\n",
      "\n"
     ]
    }
   ],
   "source": [
    "h2o.init()\n",
    "data = h2o.import_file(output_file_path)\n",
    "x = data.columns[:-2]  # Todas as colunas, exceto a última (coluna alvo)\n",
    "y = data.columns[-2]   # A última coluna (coluna alvo)\n",
    "data[y] = data[y].asfactor()\n",
    "train, test = data.split_frame(ratios=[0.8], seed=1)\n",
    "aml = H2OAutoML(seed=1, project_name=\"bleed_system_prediction\")\n",
    "aml.train(x=x, y=y, training_frame=train)\n",
    "lb = aml.leaderboard\n",
    "best_model = aml.leader\n",
    "predictions = best_model.predict(test)\n",
    "h2o.shutdown()"
   ]
  }
 ],
 "metadata": {
  "kernelspec": {
   "display_name": ".venv",
   "language": "python",
   "name": "python3"
  },
  "language_info": {
   "codemirror_mode": {
    "name": "ipython",
    "version": 3
   },
   "file_extension": ".py",
   "mimetype": "text/x-python",
   "name": "python",
   "nbconvert_exporter": "python",
   "pygments_lexer": "ipython3",
   "version": "3.10.2"
  },
  "orig_nbformat": 4
 },
 "nbformat": 4,
 "nbformat_minor": 2
}
