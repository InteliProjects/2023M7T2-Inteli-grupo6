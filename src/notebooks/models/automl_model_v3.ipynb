{
  "cells": [
    {
      "cell_type": "markdown",
      "metadata": {
        "id": "d95wPsUyWZFz"
      },
      "source": [
        "# Treinamento do modelo com Pycaret"
      ]
    },
    {
      "cell_type": "markdown",
      "metadata": {
        "id": "Se6dfMzVWZF5"
      },
      "source": [
        "## Importando as bibliotecas necessárias"
      ]
    },
    {
      "cell_type": "code",
      "execution_count": 1,
      "metadata": {
        "id": "gNsK1ZhPWZF5"
      },
      "outputs": [],
      "source": [
        "import pandas as pd\n",
        "from pycaret.classification import *\n",
        "import matplotlib.pyplot as plt\n",
        "import missingno as msno"
      ]
    },
    {
      "cell_type": "markdown",
      "metadata": {},
      "source": [
        "### Importando as bibliotecas necessárias para Autenticação no Google Drive"
      ]
    },
    {
      "cell_type": "code",
      "execution_count": 3,
      "metadata": {
        "id": "9pKDrVeQF1km"
      },
      "outputs": [
        {
          "ename": "ModuleNotFoundError",
          "evalue": "No module named 'google.colab'",
          "output_type": "error",
          "traceback": [
            "\u001b[0;31m---------------------------------------------------------------------------\u001b[0m",
            "\u001b[0;31mModuleNotFoundError\u001b[0m                       Traceback (most recent call last)",
            "\u001b[1;32m/Users/lyo.quintao/Documents/development/Projects/dask_concatenate_parquets/summarize/azul_new_data/training_google.ipynb Célula 4\u001b[0m line \u001b[0;36m3\n\u001b[1;32m      <a href='vscode-notebook-cell:/Users/lyo.quintao/Documents/development/Projects/dask_concatenate_parquets/summarize/azul_new_data/training_google.ipynb#W3sZmlsZQ%3D%3D?line=0'>1</a>\u001b[0m \u001b[39mfrom\u001b[39;00m \u001b[39mpydrive\u001b[39;00m\u001b[39m.\u001b[39;00m\u001b[39mauth\u001b[39;00m \u001b[39mimport\u001b[39;00m GoogleAuth\n\u001b[1;32m      <a href='vscode-notebook-cell:/Users/lyo.quintao/Documents/development/Projects/dask_concatenate_parquets/summarize/azul_new_data/training_google.ipynb#W3sZmlsZQ%3D%3D?line=1'>2</a>\u001b[0m \u001b[39mfrom\u001b[39;00m \u001b[39mpydrive\u001b[39;00m\u001b[39m.\u001b[39;00m\u001b[39mdrive\u001b[39;00m \u001b[39mimport\u001b[39;00m GoogleDrive\n\u001b[0;32m----> <a href='vscode-notebook-cell:/Users/lyo.quintao/Documents/development/Projects/dask_concatenate_parquets/summarize/azul_new_data/training_google.ipynb#W3sZmlsZQ%3D%3D?line=2'>3</a>\u001b[0m \u001b[39mfrom\u001b[39;00m \u001b[39mgoogle\u001b[39;00m\u001b[39m.\u001b[39;00m\u001b[39mcolab\u001b[39;00m \u001b[39mimport\u001b[39;00m auth\n\u001b[1;32m      <a href='vscode-notebook-cell:/Users/lyo.quintao/Documents/development/Projects/dask_concatenate_parquets/summarize/azul_new_data/training_google.ipynb#W3sZmlsZQ%3D%3D?line=3'>4</a>\u001b[0m \u001b[39mfrom\u001b[39;00m \u001b[39moauth2client\u001b[39;00m\u001b[39m.\u001b[39;00m\u001b[39mclient\u001b[39;00m \u001b[39mimport\u001b[39;00m GoogleCredentials\n\u001b[1;32m      <a href='vscode-notebook-cell:/Users/lyo.quintao/Documents/development/Projects/dask_concatenate_parquets/summarize/azul_new_data/training_google.ipynb#W3sZmlsZQ%3D%3D?line=5'>6</a>\u001b[0m \u001b[39m# Authenticate and create the PyDrive client\u001b[39;00m\n",
            "\u001b[0;31mModuleNotFoundError\u001b[0m: No module named 'google.colab'"
          ]
        }
      ],
      "source": [
        "from pydrive.auth import GoogleAuth\n",
        "from pydrive.drive import GoogleDrive\n",
        "from google.colab import auth\n",
        "from oauth2client.client import GoogleCredentials\n",
        "\n",
        "# Authenticate and create the PyDrive client\n",
        "auth.authenticate_user()\n",
        "gauth = GoogleAuth()\n",
        "gauth.credentials = GoogleCredentials.get_application_default()\n",
        "drive = GoogleDrive(gauth)"
      ]
    },
    {
      "cell_type": "markdown",
      "metadata": {
        "id": "o5PAuXa2WZF6"
      },
      "source": [
        "## Importando o dataset já pré-processado"
      ]
    },
    {
      "cell_type": "code",
      "execution_count": 5,
      "metadata": {
        "id": "WlvpOPQvF37w"
      },
      "outputs": [],
      "source": [
        "file_id = '1kZbSMhVR01__CCVPJAjt0FAyEN5s9J2h'\n",
        "file_name = 'dados_agregados.csv'\n",
        "downloaded = drive.CreateFile({'id': file_id})\n",
        "downloaded.GetContentFile(file_name)"
      ]
    },
    {
      "cell_type": "markdown",
      "metadata": {},
      "source": [
        "### Definindo os targets para o AutoML"
      ]
    },
    {
      "cell_type": "code",
      "execution_count": 6,
      "metadata": {
        "id": "XH3CDPU7WZF7"
      },
      "outputs": [],
      "source": [
        "data = pd.read_csv(file_name)\n",
        "target = 'message0418DAA1'\n",
        "other_target = 'message0422DAA1'"
      ]
    },
    {
      "cell_type": "markdown",
      "metadata": {},
      "source": [
        "### Verificando o número de linhas e colunas do dataset."
      ]
    },
    {
      "cell_type": "code",
      "execution_count": 7,
      "metadata": {
        "colab": {
          "base_uri": "https://localhost:8080/"
        },
        "id": "LhKZKX-_bduL",
        "outputId": "bc611de6-03a4-43d8-b95e-fbdc89f60518"
      },
      "outputs": [
        {
          "data": {
            "text/plain": [
              "(595350, 66)"
            ]
          },
          "execution_count": 7,
          "metadata": {},
          "output_type": "execute_result"
        }
      ],
      "source": [
        "data.shape"
      ]
    },
    {
      "cell_type": "markdown",
      "metadata": {},
      "source": [
        "### Identificando os tipos de dados, quantos são falso e quantos são verdadeiros."
      ]
    },
    {
      "cell_type": "code",
      "execution_count": 8,
      "metadata": {
        "colab": {
          "base_uri": "https://localhost:8080/"
        },
        "id": "4XjK9sFZZ3m_",
        "outputId": "b6ae29e4-de0d-461e-fe29-35cb30c4d42b"
      },
      "outputs": [
        {
          "data": {
            "text/plain": [
              "0.0    594619\n",
              "1.0       299\n",
              "Name: message0418DAA1, dtype: int64"
            ]
          },
          "execution_count": 8,
          "metadata": {},
          "output_type": "execute_result"
        }
      ],
      "source": [
        "data[target].value_counts()"
      ]
    },
    {
      "cell_type": "markdown",
      "metadata": {
        "id": "KrnzOG0vWZF7"
      },
      "source": [
        "### Retirando colunas que não serão utilizadas e linhas nulas e verificando na matriz, se existe se está \"faltando\" algum valor em todo o dataset."
      ]
    },
    {
      "cell_type": "code",
      "execution_count": 9,
      "metadata": {
        "id": "piydLQQgWZF7"
      },
      "outputs": [],
      "source": [
        "data = data.dropna()"
      ]
    },
    {
      "cell_type": "code",
      "execution_count": 10,
      "metadata": {
        "id": "Fmh3LJ0-WZF-"
      },
      "outputs": [],
      "source": [
        "data = data.drop(other_target, axis=1)"
      ]
    },
    {
      "cell_type": "code",
      "execution_count": 11,
      "metadata": {
        "colab": {
          "base_uri": "https://localhost:8080/",
          "height": 654
        },
        "id": "DgwaqoAyWZF_",
        "outputId": "c54cbe9a-abc9-49b0-eab8-8403a46e2a31"
      },
      "outputs": [
        {
          "data": {
            "image/png": "[encoded data removed]",
            "text/plain": [
              "<Figure size 2500x1000 with 2 Axes>"
            ]
          },
          "metadata": {},
          "output_type": "display_data"
        },
        {
          "data": {
            "text/plain": [
              "<Figure size 2500x2500 with 0 Axes>"
            ]
          },
          "metadata": {},
          "output_type": "display_data"
        }
      ],
      "source": [
        "msno.matrix(data)\n",
        "plt.figure(figsize=(25,25))\n",
        "plt.show()"
      ]
    },
    {
      "cell_type": "code",
      "execution_count": 12,
      "metadata": {
        "colab": {
          "base_uri": "https://localhost:8080/"
        },
        "id": "QetWOrYZWZGA",
        "outputId": "21ca1c81-a46c-47df-81ba-f726de79b919"
      },
      "outputs": [
        {
          "data": {
            "text/plain": [
              "0.0    594619\n",
              "1.0       299\n",
              "Name: message0418DAA1, dtype: int64"
            ]
          },
          "execution_count": 12,
          "metadata": {},
          "output_type": "execute_result"
        }
      ],
      "source": [
        "data[target].value_counts()"
      ]
    },
    {
      "cell_type": "markdown",
      "metadata": {
        "id": "0aw8yU1xWZGA"
      },
      "source": [
        "## Balanceamento das classes"
      ]
    },
    {
      "cell_type": "markdown",
      "metadata": {
        "id": "fkx0-l4BWZGB"
      },
      "source": [
        "### Undersampling dos dados - Diminui o número de exemplos da classe majoritária, que no caso o nosso dataset é a classe 0 do nosso target."
      ]
    },
    {
      "cell_type": "code",
      "execution_count": 13,
      "metadata": {
        "id": "LSg0yqnrWZGB"
      },
      "outputs": [],
      "source": [
        "from imblearn.under_sampling import RandomUnderSampler\n",
        "\n",
        "X = data.drop(target, axis=1)\n",
        "y = data[target]\n",
        "\n",
        "rus = RandomUnderSampler(random_state=42, sampling_strategy=0.03)\n",
        "X_res, y_res = rus.fit_resample(X, y)\n",
        "\n",
        "data = pd.concat([pd.DataFrame(X_res), pd.DataFrame(y_res, columns=[target])], axis=1)"
      ]
    },
    {
      "cell_type": "code",
      "execution_count": 14,
      "metadata": {
        "colab": {
          "base_uri": "https://localhost:8080/"
        },
        "id": "M87OBnJlWZGC",
        "outputId": "2daf138b-5d08-48d1-8319-0862950b46de"
      },
      "outputs": [
        {
          "data": {
            "text/plain": [
              "0.0    9966\n",
              "1.0     299\n",
              "Name: message0418DAA1, dtype: int64"
            ]
          },
          "execution_count": 14,
          "metadata": {},
          "output_type": "execute_result"
        }
      ],
      "source": [
        "data[target].value_counts()"
      ]
    },
    {
      "cell_type": "markdown",
      "metadata": {
        "id": "6pC-z-CdWZGA"
      },
      "source": [
        "### Oversampling dos dados - Aumenta o número de exemplos da classe minoritária, que no caso o nosso dataset é a classe 1 do nosso target."
      ]
    },
    {
      "cell_type": "code",
      "execution_count": 15,
      "metadata": {
        "id": "QYNuFGQCWZGA"
      },
      "outputs": [],
      "source": [
        "from imblearn.over_sampling import SMOTE\n",
        "\n",
        "X = data.drop(target, axis=1)\n",
        "y = data[target]\n",
        "\n",
        "sm = SMOTE(random_state=42)\n",
        "X_res, y_res = sm.fit_resample(X, y)\n",
        "\n",
        "data = pd.concat([pd.DataFrame(X_res), pd.DataFrame(y_res, columns=[target])], axis=1)"
      ]
    },
    {
      "cell_type": "code",
      "execution_count": null,
      "metadata": {
        "id": "jNeRL_zCHOiU"
      },
      "outputs": [],
      "source": [
        "data[target].value_counts()"
      ]
    },
    {
      "cell_type": "markdown",
      "metadata": {
        "id": "uUf-oFREWZGC"
      },
      "source": [
        "## Inicialização do ambiente de treinamento e realização de várias tarefas de pré-processamento automaticamente."
      ]
    },
    {
      "cell_type": "code",
      "execution_count": 16,
      "metadata": {
        "colab": {
          "base_uri": "https://localhost:8080/",
          "height": 645
        },
        "id": "LUvJra7zWZGD",
        "outputId": "e0ee39bc-40ed-4cd0-d2ba-2facf2fd0127"
      },
      "outputs": [
        {
          "data": {
            "text/html": [
              "<style type=\"text/css\">\n",
              "#T_30c53_row8_col1 {\n",
              "  background-color: lightgreen;\n",
              "}\n",
              "</style>\n",
              "<table id=\"T_30c53\" class=\"dataframe\">\n",
              "  <thead>\n",
              "    <tr>\n",
              "      <th class=\"blank level0\" >&nbsp;</th>\n",
              "      <th id=\"T_30c53_level0_col0\" class=\"col_heading level0 col0\" >Description</th>\n",
              "      <th id=\"T_30c53_level0_col1\" class=\"col_heading level0 col1\" >Value</th>\n",
              "    </tr>\n",
              "  </thead>\n",
              "  <tbody>\n",
              "    <tr>\n",
              "      <th id=\"T_30c53_level0_row0\" class=\"row_heading level0 row0\" >0</th>\n",
              "      <td id=\"T_30c53_row0_col0\" class=\"data row0 col0\" >Session id</td>\n",
              "      <td id=\"T_30c53_row0_col1\" class=\"data row0 col1\" >394</td>\n",
              "    </tr>\n",
              "    <tr>\n",
              "      <th id=\"T_30c53_level0_row1\" class=\"row_heading level0 row1\" >1</th>\n",
              "      <td id=\"T_30c53_row1_col0\" class=\"data row1 col0\" >Target</td>\n",
              "      <td id=\"T_30c53_row1_col1\" class=\"data row1 col1\" >message0418DAA1</td>\n",
              "    </tr>\n",
              "    <tr>\n",
              "      <th id=\"T_30c53_level0_row2\" class=\"row_heading level0 row2\" >2</th>\n",
              "      <td id=\"T_30c53_row2_col0\" class=\"data row2 col0\" >Target type</td>\n",
              "      <td id=\"T_30c53_row2_col1\" class=\"data row2 col1\" >Binary</td>\n",
              "    </tr>\n",
              "    <tr>\n",
              "      <th id=\"T_30c53_level0_row3\" class=\"row_heading level0 row3\" >3</th>\n",
              "      <td id=\"T_30c53_row3_col0\" class=\"data row3 col0\" >Original data shape</td>\n",
              "      <td id=\"T_30c53_row3_col1\" class=\"data row3 col1\" >(19932, 65)</td>\n",
              "    </tr>\n",
              "    <tr>\n",
              "      <th id=\"T_30c53_level0_row4\" class=\"row_heading level0 row4\" >4</th>\n",
              "      <td id=\"T_30c53_row4_col0\" class=\"data row4 col0\" >Transformed data shape</td>\n",
              "      <td id=\"T_30c53_row4_col1\" class=\"data row4 col1\" >(19932, 65)</td>\n",
              "    </tr>\n",
              "    <tr>\n",
              "      <th id=\"T_30c53_level0_row5\" class=\"row_heading level0 row5\" >5</th>\n",
              "      <td id=\"T_30c53_row5_col0\" class=\"data row5 col0\" >Transformed train set shape</td>\n",
              "      <td id=\"T_30c53_row5_col1\" class=\"data row5 col1\" >(13952, 65)</td>\n",
              "    </tr>\n",
              "    <tr>\n",
              "      <th id=\"T_30c53_level0_row6\" class=\"row_heading level0 row6\" >6</th>\n",
              "      <td id=\"T_30c53_row6_col0\" class=\"data row6 col0\" >Transformed test set shape</td>\n",
              "      <td id=\"T_30c53_row6_col1\" class=\"data row6 col1\" >(5980, 65)</td>\n",
              "    </tr>\n",
              "    <tr>\n",
              "      <th id=\"T_30c53_level0_row7\" class=\"row_heading level0 row7\" >7</th>\n",
              "      <td id=\"T_30c53_row7_col0\" class=\"data row7 col0\" >Numeric features</td>\n",
              "      <td id=\"T_30c53_row7_col1\" class=\"data row7 col1\" >64</td>\n",
              "    </tr>\n",
              "    <tr>\n",
              "      <th id=\"T_30c53_level0_row8\" class=\"row_heading level0 row8\" >8</th>\n",
              "      <td id=\"T_30c53_row8_col0\" class=\"data row8 col0\" >Preprocess</td>\n",
              "      <td id=\"T_30c53_row8_col1\" class=\"data row8 col1\" >True</td>\n",
              "    </tr>\n",
              "    <tr>\n",
              "      <th id=\"T_30c53_level0_row9\" class=\"row_heading level0 row9\" >9</th>\n",
              "      <td id=\"T_30c53_row9_col0\" class=\"data row9 col0\" >Imputation type</td>\n",
              "      <td id=\"T_30c53_row9_col1\" class=\"data row9 col1\" >simple</td>\n",
              "    </tr>\n",
              "    <tr>\n",
              "      <th id=\"T_30c53_level0_row10\" class=\"row_heading level0 row10\" >10</th>\n",
              "      <td id=\"T_30c53_row10_col0\" class=\"data row10 col0\" >Numeric imputation</td>\n",
              "      <td id=\"T_30c53_row10_col1\" class=\"data row10 col1\" >mean</td>\n",
              "    </tr>\n",
              "    <tr>\n",
              "      <th id=\"T_30c53_level0_row11\" class=\"row_heading level0 row11\" >11</th>\n",
              "      <td id=\"T_30c53_row11_col0\" class=\"data row11 col0\" >Categorical imputation</td>\n",
              "      <td id=\"T_30c53_row11_col1\" class=\"data row11 col1\" >mode</td>\n",
              "    </tr>\n",
              "    <tr>\n",
              "      <th id=\"T_30c53_level0_row12\" class=\"row_heading level0 row12\" >12</th>\n",
              "      <td id=\"T_30c53_row12_col0\" class=\"data row12 col0\" >Fold Generator</td>\n",
              "      <td id=\"T_30c53_row12_col1\" class=\"data row12 col1\" >StratifiedKFold</td>\n",
              "    </tr>\n",
              "    <tr>\n",
              "      <th id=\"T_30c53_level0_row13\" class=\"row_heading level0 row13\" >13</th>\n",
              "      <td id=\"T_30c53_row13_col0\" class=\"data row13 col0\" >Fold Number</td>\n",
              "      <td id=\"T_30c53_row13_col1\" class=\"data row13 col1\" >10</td>\n",
              "    </tr>\n",
              "    <tr>\n",
              "      <th id=\"T_30c53_level0_row14\" class=\"row_heading level0 row14\" >14</th>\n",
              "      <td id=\"T_30c53_row14_col0\" class=\"data row14 col0\" >CPU Jobs</td>\n",
              "      <td id=\"T_30c53_row14_col1\" class=\"data row14 col1\" >-1</td>\n",
              "    </tr>\n",
              "    <tr>\n",
              "      <th id=\"T_30c53_level0_row15\" class=\"row_heading level0 row15\" >15</th>\n",
              "      <td id=\"T_30c53_row15_col0\" class=\"data row15 col0\" >Use GPU</td>\n",
              "      <td id=\"T_30c53_row15_col1\" class=\"data row15 col1\" >False</td>\n",
              "    </tr>\n",
              "    <tr>\n",
              "      <th id=\"T_30c53_level0_row16\" class=\"row_heading level0 row16\" >16</th>\n",
              "      <td id=\"T_30c53_row16_col0\" class=\"data row16 col0\" >Log Experiment</td>\n",
              "      <td id=\"T_30c53_row16_col1\" class=\"data row16 col1\" >False</td>\n",
              "    </tr>\n",
              "    <tr>\n",
              "      <th id=\"T_30c53_level0_row17\" class=\"row_heading level0 row17\" >17</th>\n",
              "      <td id=\"T_30c53_row17_col0\" class=\"data row17 col0\" >Experiment Name</td>\n",
              "      <td id=\"T_30c53_row17_col1\" class=\"data row17 col1\" >clf-default-name</td>\n",
              "    </tr>\n",
              "    <tr>\n",
              "      <th id=\"T_30c53_level0_row18\" class=\"row_heading level0 row18\" >18</th>\n",
              "      <td id=\"T_30c53_row18_col0\" class=\"data row18 col0\" >USI</td>\n",
              "      <td id=\"T_30c53_row18_col1\" class=\"data row18 col1\" >2249</td>\n",
              "    </tr>\n",
              "  </tbody>\n",
              "</table>\n"
            ],
            "text/plain": [
              "<pandas.io.formats.style.Styler at 0x79b7c1c8b790>"
            ]
          },
          "metadata": {},
          "output_type": "display_data"
        }
      ],
      "source": [
        "clf1 = setup(data, target=target)"
      ]
    },
    {
      "cell_type": "markdown",
      "metadata": {
        "id": "Sf8FqdJhWZGD"
      },
      "source": [
        "## Comparação de modelos"
      ]
    },
    {
      "cell_type": "code",
      "execution_count": 17,
      "metadata": {
        "colab": {
          "base_uri": "https://localhost:8080/",
          "height": 682,
          "referenced_widgets": [
            "7bd28d57b82d4e12af1d8356a8ecb47f",
            "58a40f9ff9b9483384aeb15fcf9aeadc",
            "ce707d6b8b664298b24a5509ca010605",
            "10f9fb809af44dc9a4eef1d21adba1c5",
            "1e222e5451284d21bf5c935ee87f495b",
            "cedeaa3a7a09457ab2b4ea4cc34565b3",
            "6406d400248e4420b88c7a5aeb4ffcf8",
            "f63325fa598d42848e60f963f7755895",
            "27925f2208fd475c9599e0a1d4b1b300",
            "130b708c86b24f5db1e9d9ad34affdda",
            "e7fea7348c5a414db2259435811824b4"
          ]
        },
        "id": "MWbQiCWbWZGD",
        "outputId": "a3695b31-e59b-410d-9fb5-9929502eee71"
      },
      "outputs": [
        {
          "data": {
            "text/html": [],
            "text/plain": [
              "<IPython.core.display.HTML object>"
            ]
          },
          "metadata": {},
          "output_type": "display_data"
        },
        {
          "data": {
            "text/html": [
              "<style type=\"text/css\">\n",
              "#T_b28dc th {\n",
              "  text-align: left;\n",
              "}\n",
              "#T_b28dc_row0_col0, #T_b28dc_row0_col2, #T_b28dc_row1_col0, #T_b28dc_row1_col1, #T_b28dc_row1_col3, #T_b28dc_row1_col4, #T_b28dc_row1_col5, #T_b28dc_row1_col6, #T_b28dc_row1_col7, #T_b28dc_row2_col0, #T_b28dc_row2_col1, #T_b28dc_row2_col2, #T_b28dc_row2_col3, #T_b28dc_row2_col4, #T_b28dc_row2_col5, #T_b28dc_row2_col6, #T_b28dc_row2_col7, #T_b28dc_row3_col0, #T_b28dc_row3_col1, #T_b28dc_row3_col2, #T_b28dc_row3_col3, #T_b28dc_row3_col4, #T_b28dc_row3_col5, #T_b28dc_row3_col6, #T_b28dc_row3_col7, #T_b28dc_row4_col0, #T_b28dc_row4_col1, #T_b28dc_row4_col2, #T_b28dc_row4_col3, #T_b28dc_row4_col4, #T_b28dc_row4_col5, #T_b28dc_row4_col6, #T_b28dc_row4_col7, #T_b28dc_row5_col0, #T_b28dc_row5_col1, #T_b28dc_row5_col2, #T_b28dc_row5_col3, #T_b28dc_row5_col4, #T_b28dc_row5_col5, #T_b28dc_row5_col6, #T_b28dc_row5_col7, #T_b28dc_row6_col0, #T_b28dc_row6_col1, #T_b28dc_row6_col2, #T_b28dc_row6_col3, #T_b28dc_row6_col4, #T_b28dc_row6_col5, #T_b28dc_row6_col6, #T_b28dc_row6_col7, #T_b28dc_row7_col0, #T_b28dc_row7_col1, #T_b28dc_row7_col2, #T_b28dc_row7_col3, #T_b28dc_row7_col4, #T_b28dc_row7_col5, #T_b28dc_row7_col6, #T_b28dc_row7_col7, #T_b28dc_row8_col0, #T_b28dc_row8_col1, #T_b28dc_row8_col2, #T_b28dc_row8_col3, #T_b28dc_row8_col4, #T_b28dc_row8_col5, #T_b28dc_row8_col6, #T_b28dc_row8_col7, #T_b28dc_row9_col0, #T_b28dc_row9_col1, #T_b28dc_row9_col2, #T_b28dc_row9_col3, #T_b28dc_row9_col4, #T_b28dc_row9_col5, #T_b28dc_row9_col6, #T_b28dc_row9_col7, #T_b28dc_row10_col0, #T_b28dc_row10_col1, #T_b28dc_row10_col2, #T_b28dc_row10_col3, #T_b28dc_row10_col4, #T_b28dc_row10_col5, #T_b28dc_row10_col6, #T_b28dc_row10_col7, #T_b28dc_row11_col0, #T_b28dc_row11_col1, #T_b28dc_row11_col2, #T_b28dc_row11_col3, #T_b28dc_row11_col4, #T_b28dc_row11_col5, #T_b28dc_row11_col6, #T_b28dc_row11_col7, #T_b28dc_row12_col0, #T_b28dc_row12_col1, #T_b28dc_row12_col2, #T_b28dc_row12_col3, #T_b28dc_row12_col4, #T_b28dc_row12_col5, #T_b28dc_row12_col6, #T_b28dc_row12_col7, #T_b28dc_row13_col0, #T_b28dc_row13_col1, #T_b28dc_row13_col2, #T_b28dc_row13_col3, #T_b28dc_row13_col4, #T_b28dc_row13_col5, #T_b28dc_row13_col6, #T_b28dc_row13_col7, #T_b28dc_row14_col0, #T_b28dc_row14_col1, #T_b28dc_row14_col2, #T_b28dc_row14_col3, #T_b28dc_row14_col4, #T_b28dc_row14_col5, #T_b28dc_row14_col6, #T_b28dc_row14_col7 {\n",
              "  text-align: left;\n",
              "}\n",
              "#T_b28dc_row0_col1, #T_b28dc_row0_col3, #T_b28dc_row0_col4, #T_b28dc_row0_col5, #T_b28dc_row0_col6, #T_b28dc_row0_col7, #T_b28dc_row1_col2 {\n",
              "  text-align: left;\n",
              "  background-color: yellow;\n",
              "}\n",
              "#T_b28dc_row0_col8, #T_b28dc_row1_col8, #T_b28dc_row2_col8, #T_b28dc_row3_col8, #T_b28dc_row4_col8, #T_b28dc_row5_col8, #T_b28dc_row6_col8, #T_b28dc_row7_col8, #T_b28dc_row8_col8, #T_b28dc_row9_col8, #T_b28dc_row10_col8, #T_b28dc_row11_col8, #T_b28dc_row12_col8, #T_b28dc_row13_col8 {\n",
              "  text-align: left;\n",
              "  background-color: lightgrey;\n",
              "}\n",
              "#T_b28dc_row14_col8 {\n",
              "  text-align: left;\n",
              "  background-color: yellow;\n",
              "  background-color: lightgrey;\n",
              "}\n",
              "</style>\n",
              "<table id=\"T_b28dc\" class=\"dataframe\">\n",
              "  <thead>\n",
              "    <tr>\n",
              "      <th class=\"blank level0\" >&nbsp;</th>\n",
              "      <th id=\"T_b28dc_level0_col0\" class=\"col_heading level0 col0\" >Model</th>\n",
              "      <th id=\"T_b28dc_level0_col1\" class=\"col_heading level0 col1\" >Accuracy</th>\n",
              "      <th id=\"T_b28dc_level0_col2\" class=\"col_heading level0 col2\" >AUC</th>\n",
              "      <th id=\"T_b28dc_level0_col3\" class=\"col_heading level0 col3\" >Recall</th>\n",
              "      <th id=\"T_b28dc_level0_col4\" class=\"col_heading level0 col4\" >Prec.</th>\n",
              "      <th id=\"T_b28dc_level0_col5\" class=\"col_heading level0 col5\" >F1</th>\n",
              "      <th id=\"T_b28dc_level0_col6\" class=\"col_heading level0 col6\" >Kappa</th>\n",
              "      <th id=\"T_b28dc_level0_col7\" class=\"col_heading level0 col7\" >MCC</th>\n",
              "      <th id=\"T_b28dc_level0_col8\" class=\"col_heading level0 col8\" >TT (Sec)</th>\n",
              "    </tr>\n",
              "  </thead>\n",
              "  <tbody>\n",
              "    <tr>\n",
              "      <th id=\"T_b28dc_level0_row0\" class=\"row_heading level0 row0\" >et</th>\n",
              "      <td id=\"T_b28dc_row0_col0\" class=\"data row0 col0\" >Extra Trees Classifier</td>\n",
              "      <td id=\"T_b28dc_row0_col1\" class=\"data row0 col1\" >0.9994</td>\n",
              "      <td id=\"T_b28dc_row0_col2\" class=\"data row0 col2\" >0.9999</td>\n",
              "      <td id=\"T_b28dc_row0_col3\" class=\"data row0 col3\" >1.0000</td>\n",
              "      <td id=\"T_b28dc_row0_col4\" class=\"data row0 col4\" >0.9987</td>\n",
              "      <td id=\"T_b28dc_row0_col5\" class=\"data row0 col5\" >0.9994</td>\n",
              "      <td id=\"T_b28dc_row0_col6\" class=\"data row0 col6\" >0.9987</td>\n",
              "      <td id=\"T_b28dc_row0_col7\" class=\"data row0 col7\" >0.9987</td>\n",
              "      <td id=\"T_b28dc_row0_col8\" class=\"data row0 col8\" >0.7350</td>\n",
              "    </tr>\n",
              "    <tr>\n",
              "      <th id=\"T_b28dc_level0_row1\" class=\"row_heading level0 row1\" >lightgbm</th>\n",
              "      <td id=\"T_b28dc_row1_col0\" class=\"data row1 col0\" >Light Gradient Boosting Machine</td>\n",
              "      <td id=\"T_b28dc_row1_col1\" class=\"data row1 col1\" >0.9990</td>\n",
              "      <td id=\"T_b28dc_row1_col2\" class=\"data row1 col2\" >1.0000</td>\n",
              "      <td id=\"T_b28dc_row1_col3\" class=\"data row1 col3\" >0.9994</td>\n",
              "      <td id=\"T_b28dc_row1_col4\" class=\"data row1 col4\" >0.9986</td>\n",
              "      <td id=\"T_b28dc_row1_col5\" class=\"data row1 col5\" >0.9990</td>\n",
              "      <td id=\"T_b28dc_row1_col6\" class=\"data row1 col6\" >0.9980</td>\n",
              "      <td id=\"T_b28dc_row1_col7\" class=\"data row1 col7\" >0.9980</td>\n",
              "      <td id=\"T_b28dc_row1_col8\" class=\"data row1 col8\" >3.1790</td>\n",
              "    </tr>\n",
              "    <tr>\n",
              "      <th id=\"T_b28dc_level0_row2\" class=\"row_heading level0 row2\" >rf</th>\n",
              "      <td id=\"T_b28dc_row2_col0\" class=\"data row2 col0\" >Random Forest Classifier</td>\n",
              "      <td id=\"T_b28dc_row2_col1\" class=\"data row2 col1\" >0.9989</td>\n",
              "      <td id=\"T_b28dc_row2_col2\" class=\"data row2 col2\" >0.9999</td>\n",
              "      <td id=\"T_b28dc_row2_col3\" class=\"data row2 col3\" >0.9996</td>\n",
              "      <td id=\"T_b28dc_row2_col4\" class=\"data row2 col4\" >0.9983</td>\n",
              "      <td id=\"T_b28dc_row2_col5\" class=\"data row2 col5\" >0.9989</td>\n",
              "      <td id=\"T_b28dc_row2_col6\" class=\"data row2 col6\" >0.9978</td>\n",
              "      <td id=\"T_b28dc_row2_col7\" class=\"data row2 col7\" >0.9979</td>\n",
              "      <td id=\"T_b28dc_row2_col8\" class=\"data row2 col8\" >2.7990</td>\n",
              "    </tr>\n",
              "    <tr>\n",
              "      <th id=\"T_b28dc_level0_row3\" class=\"row_heading level0 row3\" >xgboost</th>\n",
              "      <td id=\"T_b28dc_row3_col0\" class=\"data row3 col0\" >Extreme Gradient Boosting</td>\n",
              "      <td id=\"T_b28dc_row3_col1\" class=\"data row3 col1\" >0.9988</td>\n",
              "      <td id=\"T_b28dc_row3_col2\" class=\"data row3 col2\" >0.9999</td>\n",
              "      <td id=\"T_b28dc_row3_col3\" class=\"data row3 col3\" >0.9996</td>\n",
              "      <td id=\"T_b28dc_row3_col4\" class=\"data row3 col4\" >0.9980</td>\n",
              "      <td id=\"T_b28dc_row3_col5\" class=\"data row3 col5\" >0.9988</td>\n",
              "      <td id=\"T_b28dc_row3_col6\" class=\"data row3 col6\" >0.9976</td>\n",
              "      <td id=\"T_b28dc_row3_col7\" class=\"data row3 col7\" >0.9976</td>\n",
              "      <td id=\"T_b28dc_row3_col8\" class=\"data row3 col8\" >4.2470</td>\n",
              "    </tr>\n",
              "    <tr>\n",
              "      <th id=\"T_b28dc_level0_row4\" class=\"row_heading level0 row4\" >dt</th>\n",
              "      <td id=\"T_b28dc_row4_col0\" class=\"data row4 col0\" >Decision Tree Classifier</td>\n",
              "      <td id=\"T_b28dc_row4_col1\" class=\"data row4 col1\" >0.9971</td>\n",
              "      <td id=\"T_b28dc_row4_col2\" class=\"data row4 col2\" >0.9971</td>\n",
              "      <td id=\"T_b28dc_row4_col3\" class=\"data row4 col3\" >0.9983</td>\n",
              "      <td id=\"T_b28dc_row4_col4\" class=\"data row4 col4\" >0.9960</td>\n",
              "      <td id=\"T_b28dc_row4_col5\" class=\"data row4 col5\" >0.9971</td>\n",
              "      <td id=\"T_b28dc_row4_col6\" class=\"data row4 col6\" >0.9943</td>\n",
              "      <td id=\"T_b28dc_row4_col7\" class=\"data row4 col7\" >0.9943</td>\n",
              "      <td id=\"T_b28dc_row4_col8\" class=\"data row4 col8\" >0.2310</td>\n",
              "    </tr>\n",
              "    <tr>\n",
              "      <th id=\"T_b28dc_level0_row5\" class=\"row_heading level0 row5\" >gbc</th>\n",
              "      <td id=\"T_b28dc_row5_col0\" class=\"data row5 col0\" >Gradient Boosting Classifier</td>\n",
              "      <td id=\"T_b28dc_row5_col1\" class=\"data row5 col1\" >0.9966</td>\n",
              "      <td id=\"T_b28dc_row5_col2\" class=\"data row5 col2\" >0.9999</td>\n",
              "      <td id=\"T_b28dc_row5_col3\" class=\"data row5 col3\" >0.9994</td>\n",
              "      <td id=\"T_b28dc_row5_col4\" class=\"data row5 col4\" >0.9937</td>\n",
              "      <td id=\"T_b28dc_row5_col5\" class=\"data row5 col5\" >0.9966</td>\n",
              "      <td id=\"T_b28dc_row5_col6\" class=\"data row5 col6\" >0.9931</td>\n",
              "      <td id=\"T_b28dc_row5_col7\" class=\"data row5 col7\" >0.9931</td>\n",
              "      <td id=\"T_b28dc_row5_col8\" class=\"data row5 col8\" >7.3030</td>\n",
              "    </tr>\n",
              "    <tr>\n",
              "      <th id=\"T_b28dc_level0_row6\" class=\"row_heading level0 row6\" >ada</th>\n",
              "      <td id=\"T_b28dc_row6_col0\" class=\"data row6 col0\" >Ada Boost Classifier</td>\n",
              "      <td id=\"T_b28dc_row6_col1\" class=\"data row6 col1\" >0.9962</td>\n",
              "      <td id=\"T_b28dc_row6_col2\" class=\"data row6 col2\" >0.9997</td>\n",
              "      <td id=\"T_b28dc_row6_col3\" class=\"data row6 col3\" >0.9991</td>\n",
              "      <td id=\"T_b28dc_row6_col4\" class=\"data row6 col4\" >0.9933</td>\n",
              "      <td id=\"T_b28dc_row6_col5\" class=\"data row6 col5\" >0.9962</td>\n",
              "      <td id=\"T_b28dc_row6_col6\" class=\"data row6 col6\" >0.9924</td>\n",
              "      <td id=\"T_b28dc_row6_col7\" class=\"data row6 col7\" >0.9924</td>\n",
              "      <td id=\"T_b28dc_row6_col8\" class=\"data row6 col8\" >3.9840</td>\n",
              "    </tr>\n",
              "    <tr>\n",
              "      <th id=\"T_b28dc_level0_row7\" class=\"row_heading level0 row7\" >knn</th>\n",
              "      <td id=\"T_b28dc_row7_col0\" class=\"data row7 col0\" >K Neighbors Classifier</td>\n",
              "      <td id=\"T_b28dc_row7_col1\" class=\"data row7 col1\" >0.9860</td>\n",
              "      <td id=\"T_b28dc_row7_col2\" class=\"data row7 col2\" >0.9946</td>\n",
              "      <td id=\"T_b28dc_row7_col3\" class=\"data row7 col3\" >0.9980</td>\n",
              "      <td id=\"T_b28dc_row7_col4\" class=\"data row7 col4\" >0.9747</td>\n",
              "      <td id=\"T_b28dc_row7_col5\" class=\"data row7 col5\" >0.9862</td>\n",
              "      <td id=\"T_b28dc_row7_col6\" class=\"data row7 col6\" >0.9720</td>\n",
              "      <td id=\"T_b28dc_row7_col7\" class=\"data row7 col7\" >0.9723</td>\n",
              "      <td id=\"T_b28dc_row7_col8\" class=\"data row7 col8\" >0.3620</td>\n",
              "    </tr>\n",
              "    <tr>\n",
              "      <th id=\"T_b28dc_level0_row8\" class=\"row_heading level0 row8\" >lda</th>\n",
              "      <td id=\"T_b28dc_row8_col0\" class=\"data row8 col0\" >Linear Discriminant Analysis</td>\n",
              "      <td id=\"T_b28dc_row8_col1\" class=\"data row8 col1\" >0.9693</td>\n",
              "      <td id=\"T_b28dc_row8_col2\" class=\"data row8 col2\" >0.9907</td>\n",
              "      <td id=\"T_b28dc_row8_col3\" class=\"data row8 col3\" >0.9847</td>\n",
              "      <td id=\"T_b28dc_row8_col4\" class=\"data row8 col4\" >0.9553</td>\n",
              "      <td id=\"T_b28dc_row8_col5\" class=\"data row8 col5\" >0.9697</td>\n",
              "      <td id=\"T_b28dc_row8_col6\" class=\"data row8 col6\" >0.9385</td>\n",
              "      <td id=\"T_b28dc_row8_col7\" class=\"data row8 col7\" >0.9390</td>\n",
              "      <td id=\"T_b28dc_row8_col8\" class=\"data row8 col8\" >0.3890</td>\n",
              "    </tr>\n",
              "    <tr>\n",
              "      <th id=\"T_b28dc_level0_row9\" class=\"row_heading level0 row9\" >ridge</th>\n",
              "      <td id=\"T_b28dc_row9_col0\" class=\"data row9 col0\" >Ridge Classifier</td>\n",
              "      <td id=\"T_b28dc_row9_col1\" class=\"data row9 col1\" >0.9690</td>\n",
              "      <td id=\"T_b28dc_row9_col2\" class=\"data row9 col2\" >0.0000</td>\n",
              "      <td id=\"T_b28dc_row9_col3\" class=\"data row9 col3\" >0.9860</td>\n",
              "      <td id=\"T_b28dc_row9_col4\" class=\"data row9 col4\" >0.9536</td>\n",
              "      <td id=\"T_b28dc_row9_col5\" class=\"data row9 col5\" >0.9695</td>\n",
              "      <td id=\"T_b28dc_row9_col6\" class=\"data row9 col6\" >0.9379</td>\n",
              "      <td id=\"T_b28dc_row9_col7\" class=\"data row9 col7\" >0.9385</td>\n",
              "      <td id=\"T_b28dc_row9_col8\" class=\"data row9 col8\" >0.1230</td>\n",
              "    </tr>\n",
              "    <tr>\n",
              "      <th id=\"T_b28dc_level0_row10\" class=\"row_heading level0 row10\" >lr</th>\n",
              "      <td id=\"T_b28dc_row10_col0\" class=\"data row10 col0\" >Logistic Regression</td>\n",
              "      <td id=\"T_b28dc_row10_col1\" class=\"data row10 col1\" >0.9678</td>\n",
              "      <td id=\"T_b28dc_row10_col2\" class=\"data row10 col2\" >0.9912</td>\n",
              "      <td id=\"T_b28dc_row10_col3\" class=\"data row10 col3\" >0.9815</td>\n",
              "      <td id=\"T_b28dc_row10_col4\" class=\"data row10 col4\" >0.9554</td>\n",
              "      <td id=\"T_b28dc_row10_col5\" class=\"data row10 col5\" >0.9683</td>\n",
              "      <td id=\"T_b28dc_row10_col6\" class=\"data row10 col6\" >0.9356</td>\n",
              "      <td id=\"T_b28dc_row10_col7\" class=\"data row10 col7\" >0.9360</td>\n",
              "      <td id=\"T_b28dc_row10_col8\" class=\"data row10 col8\" >3.0470</td>\n",
              "    </tr>\n",
              "    <tr>\n",
              "      <th id=\"T_b28dc_level0_row11\" class=\"row_heading level0 row11\" >svm</th>\n",
              "      <td id=\"T_b28dc_row11_col0\" class=\"data row11 col0\" >SVM - Linear Kernel</td>\n",
              "      <td id=\"T_b28dc_row11_col1\" class=\"data row11 col1\" >0.8935</td>\n",
              "      <td id=\"T_b28dc_row11_col2\" class=\"data row11 col2\" >0.0000</td>\n",
              "      <td id=\"T_b28dc_row11_col3\" class=\"data row11 col3\" >0.8636</td>\n",
              "      <td id=\"T_b28dc_row11_col4\" class=\"data row11 col4\" >0.9278</td>\n",
              "      <td id=\"T_b28dc_row11_col5\" class=\"data row11 col5\" >0.8657</td>\n",
              "      <td id=\"T_b28dc_row11_col6\" class=\"data row11 col6\" >0.7870</td>\n",
              "      <td id=\"T_b28dc_row11_col7\" class=\"data row11 col7\" >0.8104</td>\n",
              "      <td id=\"T_b28dc_row11_col8\" class=\"data row11 col8\" >1.0010</td>\n",
              "    </tr>\n",
              "    <tr>\n",
              "      <th id=\"T_b28dc_level0_row12\" class=\"row_heading level0 row12\" >nb</th>\n",
              "      <td id=\"T_b28dc_row12_col0\" class=\"data row12 col0\" >Naive Bayes</td>\n",
              "      <td id=\"T_b28dc_row12_col1\" class=\"data row12 col1\" >0.7755</td>\n",
              "      <td id=\"T_b28dc_row12_col2\" class=\"data row12 col2\" >0.9621</td>\n",
              "      <td id=\"T_b28dc_row12_col3\" class=\"data row12 col3\" >0.5885</td>\n",
              "      <td id=\"T_b28dc_row12_col4\" class=\"data row12 col4\" >0.9402</td>\n",
              "      <td id=\"T_b28dc_row12_col5\" class=\"data row12 col5\" >0.7236</td>\n",
              "      <td id=\"T_b28dc_row12_col6\" class=\"data row12 col6\" >0.5510</td>\n",
              "      <td id=\"T_b28dc_row12_col7\" class=\"data row12 col7\" >0.5942</td>\n",
              "      <td id=\"T_b28dc_row12_col8\" class=\"data row12 col8\" >0.0650</td>\n",
              "    </tr>\n",
              "    <tr>\n",
              "      <th id=\"T_b28dc_level0_row13\" class=\"row_heading level0 row13\" >qda</th>\n",
              "      <td id=\"T_b28dc_row13_col0\" class=\"data row13 col0\" >Quadratic Discriminant Analysis</td>\n",
              "      <td id=\"T_b28dc_row13_col1\" class=\"data row13 col1\" >0.6847</td>\n",
              "      <td id=\"T_b28dc_row13_col2\" class=\"data row13 col2\" >0.6868</td>\n",
              "      <td id=\"T_b28dc_row13_col3\" class=\"data row13 col3\" >0.3862</td>\n",
              "      <td id=\"T_b28dc_row13_col4\" class=\"data row13 col4\" >0.9825</td>\n",
              "      <td id=\"T_b28dc_row13_col5\" class=\"data row13 col5\" >0.5385</td>\n",
              "      <td id=\"T_b28dc_row13_col6\" class=\"data row13 col6\" >0.3694</td>\n",
              "      <td id=\"T_b28dc_row13_col7\" class=\"data row13 col7\" >0.4705</td>\n",
              "      <td id=\"T_b28dc_row13_col8\" class=\"data row13 col8\" >0.1980</td>\n",
              "    </tr>\n",
              "    <tr>\n",
              "      <th id=\"T_b28dc_level0_row14\" class=\"row_heading level0 row14\" >dummy</th>\n",
              "      <td id=\"T_b28dc_row14_col0\" class=\"data row14 col0\" >Dummy Classifier</td>\n",
              "      <td id=\"T_b28dc_row14_col1\" class=\"data row14 col1\" >0.4997</td>\n",
              "      <td id=\"T_b28dc_row14_col2\" class=\"data row14 col2\" >0.5000</td>\n",
              "      <td id=\"T_b28dc_row14_col3\" class=\"data row14 col3\" >0.4000</td>\n",
              "      <td id=\"T_b28dc_row14_col4\" class=\"data row14 col4\" >0.1999</td>\n",
              "      <td id=\"T_b28dc_row14_col5\" class=\"data row14 col5\" >0.2665</td>\n",
              "      <td id=\"T_b28dc_row14_col6\" class=\"data row14 col6\" >0.0000</td>\n",
              "      <td id=\"T_b28dc_row14_col7\" class=\"data row14 col7\" >0.0000</td>\n",
              "      <td id=\"T_b28dc_row14_col8\" class=\"data row14 col8\" >0.0580</td>\n",
              "    </tr>\n",
              "  </tbody>\n",
              "</table>\n"
            ],
            "text/plain": [
              "<pandas.io.formats.style.Styler at 0x79b7cd3cbfd0>"
            ]
          },
          "metadata": {},
          "output_type": "display_data"
        },
        {
          "data": {
            "application/vnd.jupyter.widget-view+json": {
              "model_id": "7bd28d57b82d4e12af1d8356a8ecb47f",
              "version_major": 2,
              "version_minor": 0
            },
            "text/plain": [
              "Processing:   0%|          | 0/65 [00:00<?, ?it/s]"
            ]
          },
          "metadata": {
            "application/vnd.jupyter.widget-view+json": {
              "colab": {
                "custom_widget_manager": {
                  "url": "https://ssl.gstatic.com/colaboratory-static/widgets/colab-cdn-widget-manager/b3e629b1971e1542/manager.min.js"
                }
              }
            }
          },
          "output_type": "display_data"
        },
        {
          "data": {
            "text/html": [],
            "text/plain": [
              "<IPython.core.display.HTML object>"
            ]
          },
          "metadata": {},
          "output_type": "display_data"
        },
        {
          "data": {
            "text/html": [
              "<style>#sk-container-id-1 {color: black;background-color: white;}#sk-container-id-1 pre{padding: 0;}#sk-container-id-1 div.sk-toggleable {background-color: white;}#sk-container-id-1 label.sk-toggleable__label {cursor: pointer;display: block;width: 100%;margin-bottom: 0;padding: 0.3em;box-sizing: border-box;text-align: center;}#sk-container-id-1 label.sk-toggleable__label-arrow:before {content: \"▸\";float: left;margin-right: 0.25em;color: #696969;}#sk-container-id-1 label.sk-toggleable__label-arrow:hover:before {color: black;}#sk-container-id-1 div.sk-estimator:hover label.sk-toggleable__label-arrow:before {color: black;}#sk-container-id-1 div.sk-toggleable__content {max-height: 0;max-width: 0;overflow: hidden;text-align: left;background-color: #f0f8ff;}#sk-container-id-1 div.sk-toggleable__content pre {margin: 0.2em;color: black;border-radius: 0.25em;background-color: #f0f8ff;}#sk-container-id-1 input.sk-toggleable__control:checked~div.sk-toggleable__content {max-height: 200px;max-width: 100%;overflow: auto;}#sk-container-id-1 input.sk-toggleable__control:checked~label.sk-toggleable__label-arrow:before {content: \"▾\";}#sk-container-id-1 div.sk-estimator input.sk-toggleable__control:checked~label.sk-toggleable__label {background-color: #d4ebff;}#sk-container-id-1 div.sk-label input.sk-toggleable__control:checked~label.sk-toggleable__label {background-color: #d4ebff;}#sk-container-id-1 input.sk-hidden--visually {border: 0;clip: rect(1px 1px 1px 1px);clip: rect(1px, 1px, 1px, 1px);height: 1px;margin: -1px;overflow: hidden;padding: 0;position: absolute;width: 1px;}#sk-container-id-1 div.sk-estimator {font-family: monospace;background-color: #f0f8ff;border: 1px dotted black;border-radius: 0.25em;box-sizing: border-box;margin-bottom: 0.5em;}#sk-container-id-1 div.sk-estimator:hover {background-color: #d4ebff;}#sk-container-id-1 div.sk-parallel-item::after {content: \"\";width: 100%;border-bottom: 1px solid gray;flex-grow: 1;}#sk-container-id-1 div.sk-label:hover label.sk-toggleable__label {background-color: #d4ebff;}#sk-container-id-1 div.sk-serial::before {content: \"\";position: absolute;border-left: 1px solid gray;box-sizing: border-box;top: 0;bottom: 0;left: 50%;z-index: 0;}#sk-container-id-1 div.sk-serial {display: flex;flex-direction: column;align-items: center;background-color: white;padding-right: 0.2em;padding-left: 0.2em;position: relative;}#sk-container-id-1 div.sk-item {position: relative;z-index: 1;}#sk-container-id-1 div.sk-parallel {display: flex;align-items: stretch;justify-content: center;background-color: white;position: relative;}#sk-container-id-1 div.sk-item::before, #sk-container-id-1 div.sk-parallel-item::before {content: \"\";position: absolute;border-left: 1px solid gray;box-sizing: border-box;top: 0;bottom: 0;left: 50%;z-index: -1;}#sk-container-id-1 div.sk-parallel-item {display: flex;flex-direction: column;z-index: 1;position: relative;background-color: white;}#sk-container-id-1 div.sk-parallel-item:first-child::after {align-self: flex-end;width: 50%;}#sk-container-id-1 div.sk-parallel-item:last-child::after {align-self: flex-start;width: 50%;}#sk-container-id-1 div.sk-parallel-item:only-child::after {width: 0;}#sk-container-id-1 div.sk-dashed-wrapped {border: 1px dashed gray;margin: 0 0.4em 0.5em 0.4em;box-sizing: border-box;padding-bottom: 0.4em;background-color: white;}#sk-container-id-1 div.sk-label label {font-family: monospace;font-weight: bold;display: inline-block;line-height: 1.2em;}#sk-container-id-1 div.sk-label-container {text-align: center;}#sk-container-id-1 div.sk-container {/* jupyter's `normalize.less` sets `[hidden] { display: none; }` but bootstrap.min.css set `[hidden] { display: none !important; }` so we also need the `!important` here to be able to override the default hidden behavior on the sphinx rendered scikit-learn.org. See: https://github.com/scikit-learn/scikit-learn/issues/21755 */display: inline-block !important;position: relative;}#sk-container-id-1 div.sk-text-repr-fallback {display: none;}</style><div id=\"sk-container-id-1\" class=\"sk-top-container\"><div class=\"sk-text-repr-fallback\"><pre>ExtraTreesClassifier(bootstrap=False, ccp_alpha=0.0, class_weight=None,\n",
              "                     criterion=&#x27;gini&#x27;, max_depth=None, max_features=&#x27;sqrt&#x27;,\n",
              "                     max_leaf_nodes=None, max_samples=None,\n",
              "                     min_impurity_decrease=0.0, min_samples_leaf=1,\n",
              "                     min_samples_split=2, min_weight_fraction_leaf=0.0,\n",
              "                     n_estimators=100, n_jobs=-1, oob_score=False,\n",
              "                     random_state=394, verbose=0, warm_start=False)</pre><b>In a Jupyter environment, please rerun this cell to show the HTML representation or trust the notebook. <br />On GitHub, the HTML representation is unable to render, please try loading this page with nbviewer.org.</b></div><div class=\"sk-container\" hidden><div class=\"sk-item\"><div class=\"sk-estimator sk-toggleable\"><input class=\"sk-toggleable__control sk-hidden--visually\" id=\"sk-estimator-id-1\" type=\"checkbox\" checked><label for=\"sk-estimator-id-1\" class=\"sk-toggleable__label sk-toggleable__label-arrow\">ExtraTreesClassifier</label><div class=\"sk-toggleable__content\"><pre>ExtraTreesClassifier(bootstrap=False, ccp_alpha=0.0, class_weight=None,\n",
              "                     criterion=&#x27;gini&#x27;, max_depth=None, max_features=&#x27;sqrt&#x27;,\n",
              "                     max_leaf_nodes=None, max_samples=None,\n",
              "                     min_impurity_decrease=0.0, min_samples_leaf=1,\n",
              "                     min_samples_split=2, min_weight_fraction_leaf=0.0,\n",
              "                     n_estimators=100, n_jobs=-1, oob_score=False,\n",
              "                     random_state=394, verbose=0, warm_start=False)</pre></div></div></div></div></div>"
            ],
            "text/plain": [
              "ExtraTreesClassifier(bootstrap=False, ccp_alpha=0.0, class_weight=None,\n",
              "                     criterion='gini', max_depth=None, max_features='sqrt',\n",
              "                     max_leaf_nodes=None, max_samples=None,\n",
              "                     min_impurity_decrease=0.0, min_samples_leaf=1,\n",
              "                     min_samples_split=2, min_weight_fraction_leaf=0.0,\n",
              "                     n_estimators=100, n_jobs=-1, oob_score=False,\n",
              "                     random_state=394, verbose=0, warm_start=False)"
            ]
          },
          "execution_count": 17,
          "metadata": {},
          "output_type": "execute_result"
        }
      ],
      "source": [
        "best_model = compare_models(fold=10)\n",
        "best_model"
      ]
    },
    {
      "cell_type": "markdown",
      "metadata": {
        "id": "jtH01DA5WZGD"
      },
      "source": [
        "## Visualização de métricas"
      ]
    },
    {
      "cell_type": "code",
      "execution_count": 18,
      "metadata": {
        "colab": {
          "base_uri": "https://localhost:8080/",
          "height": 524
        },
        "id": "zk0jgvO5WZGD",
        "outputId": "946616d5-5b79-49cb-b59f-0343ace95d3b"
      },
      "outputs": [
        {
          "data": {
            "text/html": [],
            "text/plain": [
              "<IPython.core.display.HTML object>"
            ]
          },
          "metadata": {},
          "output_type": "display_data"
        },
        {
          "data": {
            "image/png": "[encoded data removed]",
            "text/plain": [
              "<Figure size 800x550 with 1 Axes>"
            ]
          },
          "metadata": {},
          "output_type": "display_data"
        }
      ],
      "source": [
        "plot_model(best_model, plot=\"auc\")"
      ]
    },
    {
      "cell_type": "markdown",
      "metadata": {},
      "source": [
        "### Matrix de confusão"
      ]
    },
    {
      "cell_type": "code",
      "execution_count": 19,
      "metadata": {
        "colab": {
          "base_uri": "https://localhost:8080/",
          "height": 551
        },
        "id": "-LujkN_acTQn",
        "outputId": "df9eda71-9026-4fbd-c5dd-40614f7b8d0d"
      },
      "outputs": [
        {
          "data": {
            "text/html": [],
            "text/plain": [
              "<IPython.core.display.HTML object>"
            ]
          },
          "metadata": {},
          "output_type": "display_data"
        },
        {
          "data": {
            "image/png": "[encoded data removed]",
            "text/plain": [
              "<Figure size 800x550 with 1 Axes>"
            ]
          },
          "metadata": {},
          "output_type": "display_data"
        }
      ],
      "source": [
        "plot_model(best_model, plot = 'confusion_matrix')"
      ]
    },
    {
      "cell_type": "markdown",
      "metadata": {
        "id": "AHLUJovJWZGE"
      },
      "source": [
        "## Otimização de hipermarâmetros"
      ]
    },
    {
      "cell_type": "code",
      "execution_count": 20,
      "metadata": {
        "colab": {
          "base_uri": "https://localhost:8080/",
          "height": 493,
          "referenced_widgets": [
            "91d35b91f506425698eec28ca0392e7b",
            "8f9f0f58cb1b4c17ba44dd7c40da9516",
            "ad850a2cfe17416680f1bf42c51c18d5",
            "b06f78ed74404f4eb581bc88e42ec5ef",
            "a5e9f38cfb9141a5848ca0d433c7cd39",
            "f7a7038654f844ffb2a5724b7c172808",
            "802c9dd8f4b94fd89a612f4cc8a1cbfd",
            "fa27cac2a74d41dbb91a00a9b49659d8",
            "b6030204ee014785b9afdf9bdf35d705",
            "f75c526facc64a1c9852c44757e01c79",
            "bbed92becdb34bd9bc8020159c05c281"
          ]
        },
        "id": "CklgsSyQWZGE",
        "outputId": "fa34a055-391a-407b-d5c1-a0ea3e6eb624"
      },
      "outputs": [
        {
          "data": {
            "text/html": [],
            "text/plain": [
              "<IPython.core.display.HTML object>"
            ]
          },
          "metadata": {},
          "output_type": "display_data"
        },
        {
          "data": {
            "text/html": [
              "<style type=\"text/css\">\n",
              "#T_35c74_row10_col0, #T_35c74_row10_col1, #T_35c74_row10_col2, #T_35c74_row10_col3, #T_35c74_row10_col4, #T_35c74_row10_col5, #T_35c74_row10_col6 {\n",
              "  background: yellow;\n",
              "}\n",
              "</style>\n",
              "<table id=\"T_35c74\" class=\"dataframe\">\n",
              "  <thead>\n",
              "    <tr>\n",
              "      <th class=\"blank level0\" >&nbsp;</th>\n",
              "      <th id=\"T_35c74_level0_col0\" class=\"col_heading level0 col0\" >Accuracy</th>\n",
              "      <th id=\"T_35c74_level0_col1\" class=\"col_heading level0 col1\" >AUC</th>\n",
              "      <th id=\"T_35c74_level0_col2\" class=\"col_heading level0 col2\" >Recall</th>\n",
              "      <th id=\"T_35c74_level0_col3\" class=\"col_heading level0 col3\" >Prec.</th>\n",
              "      <th id=\"T_35c74_level0_col4\" class=\"col_heading level0 col4\" >F1</th>\n",
              "      <th id=\"T_35c74_level0_col5\" class=\"col_heading level0 col5\" >Kappa</th>\n",
              "      <th id=\"T_35c74_level0_col6\" class=\"col_heading level0 col6\" >MCC</th>\n",
              "    </tr>\n",
              "    <tr>\n",
              "      <th class=\"index_name level0\" >Fold</th>\n",
              "      <th class=\"blank col0\" >&nbsp;</th>\n",
              "      <th class=\"blank col1\" >&nbsp;</th>\n",
              "      <th class=\"blank col2\" >&nbsp;</th>\n",
              "      <th class=\"blank col3\" >&nbsp;</th>\n",
              "      <th class=\"blank col4\" >&nbsp;</th>\n",
              "      <th class=\"blank col5\" >&nbsp;</th>\n",
              "      <th class=\"blank col6\" >&nbsp;</th>\n",
              "    </tr>\n",
              "  </thead>\n",
              "  <tbody>\n",
              "    <tr>\n",
              "      <th id=\"T_35c74_level0_row0\" class=\"row_heading level0 row0\" >0</th>\n",
              "      <td id=\"T_35c74_row0_col0\" class=\"data row0 col0\" >0.9692</td>\n",
              "      <td id=\"T_35c74_row0_col1\" class=\"data row0 col1\" >0.9967</td>\n",
              "      <td id=\"T_35c74_row0_col2\" class=\"data row0 col2\" >0.9885</td>\n",
              "      <td id=\"T_35c74_row0_col3\" class=\"data row0 col3\" >0.9517</td>\n",
              "      <td id=\"T_35c74_row0_col4\" class=\"data row0 col4\" >0.9698</td>\n",
              "      <td id=\"T_35c74_row0_col5\" class=\"data row0 col5\" >0.9384</td>\n",
              "      <td id=\"T_35c74_row0_col6\" class=\"data row0 col6\" >0.9391</td>\n",
              "    </tr>\n",
              "    <tr>\n",
              "      <th id=\"T_35c74_level0_row1\" class=\"row_heading level0 row1\" >1</th>\n",
              "      <td id=\"T_35c74_row1_col0\" class=\"data row1 col0\" >0.9771</td>\n",
              "      <td id=\"T_35c74_row1_col1\" class=\"data row1 col1\" >0.9972</td>\n",
              "      <td id=\"T_35c74_row1_col2\" class=\"data row1 col2\" >0.9943</td>\n",
              "      <td id=\"T_35c74_row1_col3\" class=\"data row1 col3\" >0.9612</td>\n",
              "      <td id=\"T_35c74_row1_col4\" class=\"data row1 col4\" >0.9775</td>\n",
              "      <td id=\"T_35c74_row1_col5\" class=\"data row1 col5\" >0.9542</td>\n",
              "      <td id=\"T_35c74_row1_col6\" class=\"data row1 col6\" >0.9547</td>\n",
              "    </tr>\n",
              "    <tr>\n",
              "      <th id=\"T_35c74_level0_row2\" class=\"row_heading level0 row2\" >2</th>\n",
              "      <td id=\"T_35c74_row2_col0\" class=\"data row2 col0\" >0.9799</td>\n",
              "      <td id=\"T_35c74_row2_col1\" class=\"data row2 col1\" >0.9975</td>\n",
              "      <td id=\"T_35c74_row2_col2\" class=\"data row2 col2\" >0.9986</td>\n",
              "      <td id=\"T_35c74_row2_col3\" class=\"data row2 col3\" >0.9627</td>\n",
              "      <td id=\"T_35c74_row2_col4\" class=\"data row2 col4\" >0.9803</td>\n",
              "      <td id=\"T_35c74_row2_col5\" class=\"data row2 col5\" >0.9599</td>\n",
              "      <td id=\"T_35c74_row2_col6\" class=\"data row2 col6\" >0.9605</td>\n",
              "    </tr>\n",
              "    <tr>\n",
              "      <th id=\"T_35c74_level0_row3\" class=\"row_heading level0 row3\" >3</th>\n",
              "      <td id=\"T_35c74_row3_col0\" class=\"data row3 col0\" >0.9778</td>\n",
              "      <td id=\"T_35c74_row3_col1\" class=\"data row3 col1\" >0.9982</td>\n",
              "      <td id=\"T_35c74_row3_col2\" class=\"data row3 col2\" >0.9871</td>\n",
              "      <td id=\"T_35c74_row3_col3\" class=\"data row3 col3\" >0.9690</td>\n",
              "      <td id=\"T_35c74_row3_col4\" class=\"data row3 col4\" >0.9780</td>\n",
              "      <td id=\"T_35c74_row3_col5\" class=\"data row3 col5\" >0.9556</td>\n",
              "      <td id=\"T_35c74_row3_col6\" class=\"data row3 col6\" >0.9557</td>\n",
              "    </tr>\n",
              "    <tr>\n",
              "      <th id=\"T_35c74_level0_row4\" class=\"row_heading level0 row4\" >4</th>\n",
              "      <td id=\"T_35c74_row4_col0\" class=\"data row4 col0\" >0.9778</td>\n",
              "      <td id=\"T_35c74_row4_col1\" class=\"data row4 col1\" >0.9978</td>\n",
              "      <td id=\"T_35c74_row4_col2\" class=\"data row4 col2\" >0.9928</td>\n",
              "      <td id=\"T_35c74_row4_col3\" class=\"data row4 col3\" >0.9638</td>\n",
              "      <td id=\"T_35c74_row4_col4\" class=\"data row4 col4\" >0.9781</td>\n",
              "      <td id=\"T_35c74_row4_col5\" class=\"data row4 col5\" >0.9556</td>\n",
              "      <td id=\"T_35c74_row4_col6\" class=\"data row4 col6\" >0.9560</td>\n",
              "    </tr>\n",
              "    <tr>\n",
              "      <th id=\"T_35c74_level0_row5\" class=\"row_heading level0 row5\" >5</th>\n",
              "      <td id=\"T_35c74_row5_col0\" class=\"data row5 col0\" >0.9713</td>\n",
              "      <td id=\"T_35c74_row5_col1\" class=\"data row5 col1\" >0.9968</td>\n",
              "      <td id=\"T_35c74_row5_col2\" class=\"data row5 col2\" >0.9914</td>\n",
              "      <td id=\"T_35c74_row5_col3\" class=\"data row5 col3\" >0.9531</td>\n",
              "      <td id=\"T_35c74_row5_col4\" class=\"data row5 col4\" >0.9719</td>\n",
              "      <td id=\"T_35c74_row5_col5\" class=\"data row5 col5\" >0.9427</td>\n",
              "      <td id=\"T_35c74_row5_col6\" class=\"data row5 col6\" >0.9434</td>\n",
              "    </tr>\n",
              "    <tr>\n",
              "      <th id=\"T_35c74_level0_row6\" class=\"row_heading level0 row6\" >6</th>\n",
              "      <td id=\"T_35c74_row6_col0\" class=\"data row6 col0\" >0.9699</td>\n",
              "      <td id=\"T_35c74_row6_col1\" class=\"data row6 col1\" >0.9974</td>\n",
              "      <td id=\"T_35c74_row6_col2\" class=\"data row6 col2\" >0.9914</td>\n",
              "      <td id=\"T_35c74_row6_col3\" class=\"data row6 col3\" >0.9505</td>\n",
              "      <td id=\"T_35c74_row6_col4\" class=\"data row6 col4\" >0.9705</td>\n",
              "      <td id=\"T_35c74_row6_col5\" class=\"data row6 col5\" >0.9398</td>\n",
              "      <td id=\"T_35c74_row6_col6\" class=\"data row6 col6\" >0.9407</td>\n",
              "    </tr>\n",
              "    <tr>\n",
              "      <th id=\"T_35c74_level0_row7\" class=\"row_heading level0 row7\" >7</th>\n",
              "      <td id=\"T_35c74_row7_col0\" class=\"data row7 col0\" >0.9821</td>\n",
              "      <td id=\"T_35c74_row7_col1\" class=\"data row7 col1\" >0.9984</td>\n",
              "      <td id=\"T_35c74_row7_col2\" class=\"data row7 col2\" >0.9986</td>\n",
              "      <td id=\"T_35c74_row7_col3\" class=\"data row7 col3\" >0.9667</td>\n",
              "      <td id=\"T_35c74_row7_col4\" class=\"data row7 col4\" >0.9824</td>\n",
              "      <td id=\"T_35c74_row7_col5\" class=\"data row7 col5\" >0.9642</td>\n",
              "      <td id=\"T_35c74_row7_col6\" class=\"data row7 col6\" >0.9647</td>\n",
              "    </tr>\n",
              "    <tr>\n",
              "      <th id=\"T_35c74_level0_row8\" class=\"row_heading level0 row8\" >8</th>\n",
              "      <td id=\"T_35c74_row8_col0\" class=\"data row8 col0\" >0.9735</td>\n",
              "      <td id=\"T_35c74_row8_col1\" class=\"data row8 col1\" >0.9968</td>\n",
              "      <td id=\"T_35c74_row8_col2\" class=\"data row8 col2\" >0.9943</td>\n",
              "      <td id=\"T_35c74_row8_col3\" class=\"data row8 col3\" >0.9546</td>\n",
              "      <td id=\"T_35c74_row8_col4\" class=\"data row8 col4\" >0.9740</td>\n",
              "      <td id=\"T_35c74_row8_col5\" class=\"data row8 col5\" >0.9470</td>\n",
              "      <td id=\"T_35c74_row8_col6\" class=\"data row8 col6\" >0.9478</td>\n",
              "    </tr>\n",
              "    <tr>\n",
              "      <th id=\"T_35c74_level0_row9\" class=\"row_heading level0 row9\" >9</th>\n",
              "      <td id=\"T_35c74_row9_col0\" class=\"data row9 col0\" >0.9814</td>\n",
              "      <td id=\"T_35c74_row9_col1\" class=\"data row9 col1\" >0.9982</td>\n",
              "      <td id=\"T_35c74_row9_col2\" class=\"data row9 col2\" >0.9928</td>\n",
              "      <td id=\"T_35c74_row9_col3\" class=\"data row9 col3\" >0.9706</td>\n",
              "      <td id=\"T_35c74_row9_col4\" class=\"data row9 col4\" >0.9816</td>\n",
              "      <td id=\"T_35c74_row9_col5\" class=\"data row9 col5\" >0.9627</td>\n",
              "      <td id=\"T_35c74_row9_col6\" class=\"data row9 col6\" >0.9630</td>\n",
              "    </tr>\n",
              "    <tr>\n",
              "      <th id=\"T_35c74_level0_row10\" class=\"row_heading level0 row10\" >Mean</th>\n",
              "      <td id=\"T_35c74_row10_col0\" class=\"data row10 col0\" >0.9760</td>\n",
              "      <td id=\"T_35c74_row10_col1\" class=\"data row10 col1\" >0.9975</td>\n",
              "      <td id=\"T_35c74_row10_col2\" class=\"data row10 col2\" >0.9930</td>\n",
              "      <td id=\"T_35c74_row10_col3\" class=\"data row10 col3\" >0.9604</td>\n",
              "      <td id=\"T_35c74_row10_col4\" class=\"data row10 col4\" >0.9764</td>\n",
              "      <td id=\"T_35c74_row10_col5\" class=\"data row10 col5\" >0.9520</td>\n",
              "      <td id=\"T_35c74_row10_col6\" class=\"data row10 col6\" >0.9526</td>\n",
              "    </tr>\n",
              "    <tr>\n",
              "      <th id=\"T_35c74_level0_row11\" class=\"row_heading level0 row11\" >Std</th>\n",
              "      <td id=\"T_35c74_row11_col0\" class=\"data row11 col0\" >0.0045</td>\n",
              "      <td id=\"T_35c74_row11_col1\" class=\"data row11 col1\" >0.0006</td>\n",
              "      <td id=\"T_35c74_row11_col2\" class=\"data row11 col2\" >0.0035</td>\n",
              "      <td id=\"T_35c74_row11_col3\" class=\"data row11 col3\" >0.0070</td>\n",
              "      <td id=\"T_35c74_row11_col4\" class=\"data row11 col4\" >0.0043</td>\n",
              "      <td id=\"T_35c74_row11_col5\" class=\"data row11 col5\" >0.0090</td>\n",
              "      <td id=\"T_35c74_row11_col6\" class=\"data row11 col6\" >0.0088</td>\n",
              "    </tr>\n",
              "  </tbody>\n",
              "</table>\n"
            ],
            "text/plain": [
              "<pandas.io.formats.style.Styler at 0x79b7c0b32c50>"
            ]
          },
          "metadata": {},
          "output_type": "display_data"
        },
        {
          "data": {
            "application/vnd.jupyter.widget-view+json": {
              "model_id": "91d35b91f506425698eec28ca0392e7b",
              "version_major": 2,
              "version_minor": 0
            },
            "text/plain": [
              "Processing:   0%|          | 0/7 [00:00<?, ?it/s]"
            ]
          },
          "metadata": {
            "application/vnd.jupyter.widget-view+json": {
              "colab": {
                "custom_widget_manager": {
                  "url": "https://ssl.gstatic.com/colaboratory-static/widgets/colab-cdn-widget-manager/b3e629b1971e1542/manager.min.js"
                }
              }
            }
          },
          "output_type": "display_data"
        },
        {
          "name": "stdout",
          "output_type": "stream",
          "text": [
            "Fitting 10 folds for each of 10 candidates, totalling 100 fits\n"
          ]
        },
        {
          "data": {
            "text/html": [],
            "text/plain": [
              "<IPython.core.display.HTML object>"
            ]
          },
          "metadata": {},
          "output_type": "display_data"
        },
        {
          "name": "stdout",
          "output_type": "stream",
          "text": [
            "Original model was better than the tuned model, hence it will be returned. NOTE: The display metrics are for the tuned model (not the original one).\n"
          ]
        }
      ],
      "source": [
        "# Hyperparameter tuning\n",
        "tuned_model = tune_model(best_model)"
      ]
    },
    {
      "cell_type": "markdown",
      "metadata": {
        "id": "EaQcohx7WZGE"
      },
      "source": [
        "## Avaliação do modelo"
      ]
    },
    {
      "cell_type": "code",
      "execution_count": 21,
      "metadata": {
        "colab": {
          "base_uri": "https://localhost:8080/",
          "height": 665,
          "referenced_widgets": [
            "489eef2f4b6b4aba837f148e897c8ecb",
            "e42485522f6543858c216803519527cb",
            "25632f82b1e54fe0af21519bc363e352",
            "e409af16d9b5466d9b2934519680368c",
            "969c1973fb42466e9efbb863acf587c6",
            "8fa6947d351040d1b1dc3c6abc24de3a",
            "88a3529d4e8a4d84b43703212b631e59"
          ]
        },
        "id": "VPZsEcqhWZGE",
        "outputId": "2c051c40-e681-4fd1-9dc4-e2544795576b"
      },
      "outputs": [
        {
          "data": {
            "application/vnd.jupyter.widget-view+json": {
              "model_id": "489eef2f4b6b4aba837f148e897c8ecb",
              "version_major": 2,
              "version_minor": 0
            },
            "text/plain": [
              "interactive(children=(ToggleButtons(description='Plot Type:', icons=('',), options=(('Pipeline Plot', 'pipelin…"
            ]
          },
          "metadata": {
            "application/vnd.jupyter.widget-view+json": {
              "colab": {
                "custom_widget_manager": {
                  "url": "https://ssl.gstatic.com/colaboratory-static/widgets/colab-cdn-widget-manager/b3e629b1971e1542/manager.min.js"
                }
              }
            }
          },
          "output_type": "display_data"
        }
      ],
      "source": [
        "# Evaluate the model\n",
        "evaluate_model(tuned_model)"
      ]
    },
    {
      "cell_type": "markdown",
      "metadata": {
        "id": "U_gQucefWZGE"
      },
      "source": [
        "## Treinamento do modelo com os dados completos (treino e teste)"
      ]
    },
    {
      "cell_type": "code",
      "execution_count": 22,
      "metadata": {
        "id": "IimTWUgAWZGE"
      },
      "outputs": [],
      "source": [
        "final_model = finalize_model(tuned_model)"
      ]
    },
    {
      "cell_type": "markdown",
      "metadata": {
        "id": "q2pT3AzAWZGF"
      },
      "source": [
        "## Testando o modelo nos dados iniciais novamente"
      ]
    },
    {
      "cell_type": "code",
      "execution_count": 23,
      "metadata": {
        "colab": {
          "base_uri": "https://localhost:8080/",
          "height": 81
        },
        "id": "XQgYSBPzWZGF",
        "outputId": "1c326e87-cf51-4d41-cbc0-bb898f21e4e8"
      },
      "outputs": [
        {
          "data": {
            "text/html": [
              "<style type=\"text/css\">\n",
              "</style>\n",
              "<table id=\"T_cbbcb\" class=\"dataframe\">\n",
              "  <thead>\n",
              "    <tr>\n",
              "      <th class=\"blank level0\" >&nbsp;</th>\n",
              "      <th id=\"T_cbbcb_level0_col0\" class=\"col_heading level0 col0\" >Model</th>\n",
              "      <th id=\"T_cbbcb_level0_col1\" class=\"col_heading level0 col1\" >Accuracy</th>\n",
              "      <th id=\"T_cbbcb_level0_col2\" class=\"col_heading level0 col2\" >AUC</th>\n",
              "      <th id=\"T_cbbcb_level0_col3\" class=\"col_heading level0 col3\" >Recall</th>\n",
              "      <th id=\"T_cbbcb_level0_col4\" class=\"col_heading level0 col4\" >Prec.</th>\n",
              "      <th id=\"T_cbbcb_level0_col5\" class=\"col_heading level0 col5\" >F1</th>\n",
              "      <th id=\"T_cbbcb_level0_col6\" class=\"col_heading level0 col6\" >Kappa</th>\n",
              "      <th id=\"T_cbbcb_level0_col7\" class=\"col_heading level0 col7\" >MCC</th>\n",
              "    </tr>\n",
              "  </thead>\n",
              "  <tbody>\n",
              "    <tr>\n",
              "      <th id=\"T_cbbcb_level0_row0\" class=\"row_heading level0 row0\" >0</th>\n",
              "      <td id=\"T_cbbcb_row0_col0\" class=\"data row0 col0\" >Extra Trees Classifier</td>\n",
              "      <td id=\"T_cbbcb_row0_col1\" class=\"data row0 col1\" >0.9986</td>\n",
              "      <td id=\"T_cbbcb_row0_col2\" class=\"data row0 col2\" >1.0000</td>\n",
              "      <td id=\"T_cbbcb_row0_col3\" class=\"data row0 col3\" >1.0000</td>\n",
              "      <td id=\"T_cbbcb_row0_col4\" class=\"data row0 col4\" >0.2689</td>\n",
              "      <td id=\"T_cbbcb_row0_col5\" class=\"data row0 col5\" >0.4238</td>\n",
              "      <td id=\"T_cbbcb_row0_col6\" class=\"data row0 col6\" >0.4234</td>\n",
              "      <td id=\"T_cbbcb_row0_col7\" class=\"data row0 col7\" >0.5182</td>\n",
              "    </tr>\n",
              "  </tbody>\n",
              "</table>\n"
            ],
            "text/plain": [
              "<pandas.io.formats.style.Styler at 0x79b805075c00>"
            ]
          },
          "metadata": {},
          "output_type": "display_data"
        }
      ],
      "source": [
        "data_original = pd.read_csv('dados_agregados.csv')\n",
        "data_original = data_original.dropna()\n",
        "predictions = predict_model(final_model, data=data_original)"
      ]
    },
    {
      "cell_type": "markdown",
      "metadata": {
        "id": "ujvuB_LDWZGF"
      },
      "source": [
        "## Salvando o modelo"
      ]
    },
    {
      "cell_type": "code",
      "execution_count": 25,
      "metadata": {
        "colab": {
          "base_uri": "https://localhost:8080/"
        },
        "id": "42eEsvTmWZGF",
        "outputId": "6d7040d7-0a29-4b20-f81b-85b732471c81"
      },
      "outputs": [
        {
          "name": "stdout",
          "output_type": "stream",
          "text": [
            "Transformation Pipeline and Model Successfully Saved\n"
          ]
        },
        {
          "data": {
            "text/plain": [
              "(Pipeline(memory=Memory(location=None),\n",
              "          steps=[('numerical_imputer',\n",
              "                  TransformerWrapper(exclude=None,\n",
              "                                     include=['aircraftSerNum1',\n",
              "                                              'amscChBasHealthStatus1',\n",
              "                                              'amscChBasHealthStatus2',\n",
              "                                              'amscHprsovDrivF1',\n",
              "                                              'amscHprsovDrivF2',\n",
              "                                              'amscPrsovDrivF1',\n",
              "                                              'amscPrsovDrivF2',\n",
              "                                              'basBleedLowPressF1',\n",
              "                                              'basBleedLowPressF2',\n",
              "                                              'basBleedLowTempF1',\n",
              "                                              'basBleedLowTempF2',\n",
              "                                              'basBleedOverPressF...\n",
              "                  ExtraTreesClassifier(bootstrap=False, ccp_alpha=0.0,\n",
              "                                       class_weight=None, criterion='gini',\n",
              "                                       max_depth=None, max_features='sqrt',\n",
              "                                       max_leaf_nodes=None, max_samples=None,\n",
              "                                       min_impurity_decrease=0.0,\n",
              "                                       min_samples_leaf=1, min_samples_split=2,\n",
              "                                       min_weight_fraction_leaf=0.0,\n",
              "                                       n_estimators=100, n_jobs=-1,\n",
              "                                       oob_score=False, random_state=394,\n",
              "                                       verbose=0, warm_start=False))],\n",
              "          verbose=False),\n",
              " '/content/final_model.pkl')"
            ]
          },
          "execution_count": 25,
          "metadata": {},
          "output_type": "execute_result"
        }
      ],
      "source": [
        "save_model(final_model, '/content/final_model')"
      ]
    },
    {
      "cell_type": "markdown",
      "metadata": {},
      "source": [
        "### Criação da API em FastAPI integrado com o modelo."
      ]
    },
    {
      "cell_type": "code",
      "execution_count": null,
      "metadata": {},
      "outputs": [],
      "source": [
        "create_api(melhor_modelo, 'minha_api')"
      ]
    }
  ],
  "metadata": {
    "accelerator": "TPU",
    "colab": {
      "provenance": []
    },
    "kernelspec": {
      "display_name": "Python 3",
      "name": "python3"
    },
    "language_info": {
      "codemirror_mode": {
        "name": "ipython",
        "version": 3
      },
      "file_extension": ".py",
      "mimetype": "text/x-python",
      "name": "python",
      "nbconvert_exporter": "python",
      "pygments_lexer": "ipython3",
      "version": "3.11.5"
    },
    "widgets": {
      "application/vnd.jupyter.widget-state+json": {
        "10f9fb809af44dc9a4eef1d21adba1c5": {
          "model_module": "@jupyter-widgets/controls",
          "model_module_version": "1.5.0",
          "model_name": "HTMLModel",
          "state": {
            "_dom_classes": [],
            "_model_module": "@jupyter-widgets/controls",
            "_model_module_version": "1.5.0",
            "_model_name": "HTMLModel",
            "_view_count": null,
            "_view_module": "@jupyter-widgets/controls",
            "_view_module_version": "1.5.0",
            "_view_name": "HTMLView",
            "description": "",
            "description_tooltip": null,
            "layout": "IPY_MODEL_130b708c86b24f5db1e9d9ad34affdda",
            "placeholder": "​",
            "style": "IPY_MODEL_e7fea7348c5a414db2259435811824b4",
            "value": " 65/65 [04:44&lt;00:00,  2.42s/it]"
          }
        },
        "130b708c86b24f5db1e9d9ad34affdda": {
          "model_module": "@jupyter-widgets/base",
          "model_module_version": "1.2.0",
          "model_name": "LayoutModel",
          "state": {
            "_model_module": "@jupyter-widgets/base",
            "_model_module_version": "1.2.0",
            "_model_name": "LayoutModel",
            "_view_count": null,
            "_view_module": "@jupyter-widgets/base",
            "_view_module_version": "1.2.0",
            "_view_name": "LayoutView",
            "align_content": null,
            "align_items": null,
            "align_self": null,
            "border": null,
            "bottom": null,
            "display": null,
            "flex": null,
            "flex_flow": null,
            "grid_area": null,
            "grid_auto_columns": null,
            "grid_auto_flow": null,
            "grid_auto_rows": null,
            "grid_column": null,
            "grid_gap": null,
            "grid_row": null,
            "grid_template_areas": null,
            "grid_template_columns": null,
            "grid_template_rows": null,
            "height": null,
            "justify_content": null,
            "justify_items": null,
            "left": null,
            "margin": null,
            "max_height": null,
            "max_width": null,
            "min_height": null,
            "min_width": null,
            "object_fit": null,
            "object_position": null,
            "order": null,
            "overflow": null,
            "overflow_x": null,
            "overflow_y": null,
            "padding": null,
            "right": null,
            "top": null,
            "visibility": null,
            "width": null
          }
        },
        "1e222e5451284d21bf5c935ee87f495b": {
          "model_module": "@jupyter-widgets/base",
          "model_module_version": "1.2.0",
          "model_name": "LayoutModel",
          "state": {
            "_model_module": "@jupyter-widgets/base",
            "_model_module_version": "1.2.0",
            "_model_name": "LayoutModel",
            "_view_count": null,
            "_view_module": "@jupyter-widgets/base",
            "_view_module_version": "1.2.0",
            "_view_name": "LayoutView",
            "align_content": null,
            "align_items": null,
            "align_self": null,
            "border": null,
            "bottom": null,
            "display": null,
            "flex": null,
            "flex_flow": null,
            "grid_area": null,
            "grid_auto_columns": null,
            "grid_auto_flow": null,
            "grid_auto_rows": null,
            "grid_column": null,
            "grid_gap": null,
            "grid_row": null,
            "grid_template_areas": null,
            "grid_template_columns": null,
            "grid_template_rows": null,
            "height": null,
            "justify_content": null,
            "justify_items": null,
            "left": null,
            "margin": null,
            "max_height": null,
            "max_width": null,
            "min_height": null,
            "min_width": null,
            "object_fit": null,
            "object_position": null,
            "order": null,
            "overflow": null,
            "overflow_x": null,
            "overflow_y": null,
            "padding": null,
            "right": null,
            "top": null,
            "visibility": "hidden",
            "width": null
          }
        },
        "25632f82b1e54fe0af21519bc363e352": {
          "model_module": "@jupyter-widgets/output",
          "model_module_version": "1.0.0",
          "model_name": "OutputModel",
          "state": {
            "_dom_classes": [],
            "_model_module": "@jupyter-widgets/output",
            "_model_module_version": "1.0.0",
            "_model_name": "OutputModel",
            "_view_count": null,
            "_view_module": "@jupyter-widgets/output",
            "_view_module_version": "1.0.0",
            "_view_name": "OutputView",
            "layout": "IPY_MODEL_88a3529d4e8a4d84b43703212b631e59",
            "msg_id": "",
            "outputs": [
              {
                "data": {
                  "image/png": "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\n",
                  "text/plain": "<Figure size 800x550 with 1 Axes>"
                },
                "metadata": {},
                "output_type": "display_data"
              }
            ]
          }
        },
        "27925f2208fd475c9599e0a1d4b1b300": {
          "model_module": "@jupyter-widgets/controls",
          "model_module_version": "1.5.0",
          "model_name": "ProgressStyleModel",
          "state": {
            "_model_module": "@jupyter-widgets/controls",
            "_model_module_version": "1.5.0",
            "_model_name": "ProgressStyleModel",
            "_view_count": null,
            "_view_module": "@jupyter-widgets/base",
            "_view_module_version": "1.2.0",
            "_view_name": "StyleView",
            "bar_color": null,
            "description_width": ""
          }
        },
        "489eef2f4b6b4aba837f148e897c8ecb": {
          "model_module": "@jupyter-widgets/controls",
          "model_module_version": "1.5.0",
          "model_name": "VBoxModel",
          "state": {
            "_dom_classes": [
              "widget-interact"
            ],
            "_model_module": "@jupyter-widgets/controls",
            "_model_module_version": "1.5.0",
            "_model_name": "VBoxModel",
            "_view_count": null,
            "_view_module": "@jupyter-widgets/controls",
            "_view_module_version": "1.5.0",
            "_view_name": "VBoxView",
            "box_style": "",
            "children": [
              "IPY_MODEL_e42485522f6543858c216803519527cb",
              "IPY_MODEL_25632f82b1e54fe0af21519bc363e352"
            ],
            "layout": "IPY_MODEL_e409af16d9b5466d9b2934519680368c"
          }
        },
        "58a40f9ff9b9483384aeb15fcf9aeadc": {
          "model_module": "@jupyter-widgets/controls",
          "model_module_version": "1.5.0",
          "model_name": "HTMLModel",
          "state": {
            "_dom_classes": [],
            "_model_module": "@jupyter-widgets/controls",
            "_model_module_version": "1.5.0",
            "_model_name": "HTMLModel",
            "_view_count": null,
            "_view_module": "@jupyter-widgets/controls",
            "_view_module_version": "1.5.0",
            "_view_name": "HTMLView",
            "description": "",
            "description_tooltip": null,
            "layout": "IPY_MODEL_cedeaa3a7a09457ab2b4ea4cc34565b3",
            "placeholder": "​",
            "style": "IPY_MODEL_6406d400248e4420b88c7a5aeb4ffcf8",
            "value": "Processing: 100%"
          }
        },
        "6406d400248e4420b88c7a5aeb4ffcf8": {
          "model_module": "@jupyter-widgets/controls",
          "model_module_version": "1.5.0",
          "model_name": "DescriptionStyleModel",
          "state": {
            "_model_module": "@jupyter-widgets/controls",
            "_model_module_version": "1.5.0",
            "_model_name": "DescriptionStyleModel",
            "_view_count": null,
            "_view_module": "@jupyter-widgets/base",
            "_view_module_version": "1.2.0",
            "_view_name": "StyleView",
            "description_width": ""
          }
        },
        "7bd28d57b82d4e12af1d8356a8ecb47f": {
          "model_module": "@jupyter-widgets/controls",
          "model_module_version": "1.5.0",
          "model_name": "HBoxModel",
          "state": {
            "_dom_classes": [],
            "_model_module": "@jupyter-widgets/controls",
            "_model_module_version": "1.5.0",
            "_model_name": "HBoxModel",
            "_view_count": null,
            "_view_module": "@jupyter-widgets/controls",
            "_view_module_version": "1.5.0",
            "_view_name": "HBoxView",
            "box_style": "",
            "children": [
              "IPY_MODEL_58a40f9ff9b9483384aeb15fcf9aeadc",
              "IPY_MODEL_ce707d6b8b664298b24a5509ca010605",
              "IPY_MODEL_10f9fb809af44dc9a4eef1d21adba1c5"
            ],
            "layout": "IPY_MODEL_1e222e5451284d21bf5c935ee87f495b"
          }
        },
        "802c9dd8f4b94fd89a612f4cc8a1cbfd": {
          "model_module": "@jupyter-widgets/controls",
          "model_module_version": "1.5.0",
          "model_name": "DescriptionStyleModel",
          "state": {
            "_model_module": "@jupyter-widgets/controls",
            "_model_module_version": "1.5.0",
            "_model_name": "DescriptionStyleModel",
            "_view_count": null,
            "_view_module": "@jupyter-widgets/base",
            "_view_module_version": "1.2.0",
            "_view_name": "StyleView",
            "description_width": ""
          }
        },
        "88a3529d4e8a4d84b43703212b631e59": {
          "model_module": "@jupyter-widgets/base",
          "model_module_version": "1.2.0",
          "model_name": "LayoutModel",
          "state": {
            "_model_module": "@jupyter-widgets/base",
            "_model_module_version": "1.2.0",
            "_model_name": "LayoutModel",
            "_view_count": null,
            "_view_module": "@jupyter-widgets/base",
            "_view_module_version": "1.2.0",
            "_view_name": "LayoutView",
            "align_content": null,
            "align_items": null,
            "align_self": null,
            "border": null,
            "bottom": null,
            "display": null,
            "flex": null,
            "flex_flow": null,
            "grid_area": null,
            "grid_auto_columns": null,
            "grid_auto_flow": null,
            "grid_auto_rows": null,
            "grid_column": null,
            "grid_gap": null,
            "grid_row": null,
            "grid_template_areas": null,
            "grid_template_columns": null,
            "grid_template_rows": null,
            "height": null,
            "justify_content": null,
            "justify_items": null,
            "left": null,
            "margin": null,
            "max_height": null,
            "max_width": null,
            "min_height": null,
            "min_width": null,
            "object_fit": null,
            "object_position": null,
            "order": null,
            "overflow": null,
            "overflow_x": null,
            "overflow_y": null,
            "padding": null,
            "right": null,
            "top": null,
            "visibility": null,
            "width": null
          }
        },
        "8f9f0f58cb1b4c17ba44dd7c40da9516": {
          "model_module": "@jupyter-widgets/controls",
          "model_module_version": "1.5.0",
          "model_name": "HTMLModel",
          "state": {
            "_dom_classes": [],
            "_model_module": "@jupyter-widgets/controls",
            "_model_module_version": "1.5.0",
            "_model_name": "HTMLModel",
            "_view_count": null,
            "_view_module": "@jupyter-widgets/controls",
            "_view_module_version": "1.5.0",
            "_view_name": "HTMLView",
            "description": "",
            "description_tooltip": null,
            "layout": "IPY_MODEL_f7a7038654f844ffb2a5724b7c172808",
            "placeholder": "​",
            "style": "IPY_MODEL_802c9dd8f4b94fd89a612f4cc8a1cbfd",
            "value": "Processing: 100%"
          }
        },
        "8fa6947d351040d1b1dc3c6abc24de3a": {
          "model_module": "@jupyter-widgets/controls",
          "model_module_version": "1.5.0",
          "model_name": "ToggleButtonsStyleModel",
          "state": {
            "_model_module": "@jupyter-widgets/controls",
            "_model_module_version": "1.5.0",
            "_model_name": "ToggleButtonsStyleModel",
            "_view_count": null,
            "_view_module": "@jupyter-widgets/base",
            "_view_module_version": "1.2.0",
            "_view_name": "StyleView",
            "button_width": "",
            "description_width": "",
            "font_weight": ""
          }
        },
        "91d35b91f506425698eec28ca0392e7b": {
          "model_module": "@jupyter-widgets/controls",
          "model_module_version": "1.5.0",
          "model_name": "HBoxModel",
          "state": {
            "_dom_classes": [],
            "_model_module": "@jupyter-widgets/controls",
            "_model_module_version": "1.5.0",
            "_model_name": "HBoxModel",
            "_view_count": null,
            "_view_module": "@jupyter-widgets/controls",
            "_view_module_version": "1.5.0",
            "_view_name": "HBoxView",
            "box_style": "",
            "children": [
              "IPY_MODEL_8f9f0f58cb1b4c17ba44dd7c40da9516",
              "IPY_MODEL_ad850a2cfe17416680f1bf42c51c18d5",
              "IPY_MODEL_b06f78ed74404f4eb581bc88e42ec5ef"
            ],
            "layout": "IPY_MODEL_a5e9f38cfb9141a5848ca0d433c7cd39"
          }
        },
        "969c1973fb42466e9efbb863acf587c6": {
          "model_module": "@jupyter-widgets/base",
          "model_module_version": "1.2.0",
          "model_name": "LayoutModel",
          "state": {
            "_model_module": "@jupyter-widgets/base",
            "_model_module_version": "1.2.0",
            "_model_name": "LayoutModel",
            "_view_count": null,
            "_view_module": "@jupyter-widgets/base",
            "_view_module_version": "1.2.0",
            "_view_name": "LayoutView",
            "align_content": null,
            "align_items": null,
            "align_self": null,
            "border": null,
            "bottom": null,
            "display": null,
            "flex": null,
            "flex_flow": null,
            "grid_area": null,
            "grid_auto_columns": null,
            "grid_auto_flow": null,
            "grid_auto_rows": null,
            "grid_column": null,
            "grid_gap": null,
            "grid_row": null,
            "grid_template_areas": null,
            "grid_template_columns": null,
            "grid_template_rows": null,
            "height": null,
            "justify_content": null,
            "justify_items": null,
            "left": null,
            "margin": null,
            "max_height": null,
            "max_width": null,
            "min_height": null,
            "min_width": null,
            "object_fit": null,
            "object_position": null,
            "order": null,
            "overflow": null,
            "overflow_x": null,
            "overflow_y": null,
            "padding": null,
            "right": null,
            "top": null,
            "visibility": null,
            "width": null
          }
        },
        "a5e9f38cfb9141a5848ca0d433c7cd39": {
          "model_module": "@jupyter-widgets/base",
          "model_module_version": "1.2.0",
          "model_name": "LayoutModel",
          "state": {
            "_model_module": "@jupyter-widgets/base",
            "_model_module_version": "1.2.0",
            "_model_name": "LayoutModel",
            "_view_count": null,
            "_view_module": "@jupyter-widgets/base",
            "_view_module_version": "1.2.0",
            "_view_name": "LayoutView",
            "align_content": null,
            "align_items": null,
            "align_self": null,
            "border": null,
            "bottom": null,
            "display": null,
            "flex": null,
            "flex_flow": null,
            "grid_area": null,
            "grid_auto_columns": null,
            "grid_auto_flow": null,
            "grid_auto_rows": null,
            "grid_column": null,
            "grid_gap": null,
            "grid_row": null,
            "grid_template_areas": null,
            "grid_template_columns": null,
            "grid_template_rows": null,
            "height": null,
            "justify_content": null,
            "justify_items": null,
            "left": null,
            "margin": null,
            "max_height": null,
            "max_width": null,
            "min_height": null,
            "min_width": null,
            "object_fit": null,
            "object_position": null,
            "order": null,
            "overflow": null,
            "overflow_x": null,
            "overflow_y": null,
            "padding": null,
            "right": null,
            "top": null,
            "visibility": "hidden",
            "width": null
          }
        },
        "ad850a2cfe17416680f1bf42c51c18d5": {
          "model_module": "@jupyter-widgets/controls",
          "model_module_version": "1.5.0",
          "model_name": "FloatProgressModel",
          "state": {
            "_dom_classes": [],
            "_model_module": "@jupyter-widgets/controls",
            "_model_module_version": "1.5.0",
            "_model_name": "FloatProgressModel",
            "_view_count": null,
            "_view_module": "@jupyter-widgets/controls",
            "_view_module_version": "1.5.0",
            "_view_name": "ProgressView",
            "bar_style": "",
            "description": "",
            "description_tooltip": null,
            "layout": "IPY_MODEL_fa27cac2a74d41dbb91a00a9b49659d8",
            "max": 7,
            "min": 0,
            "orientation": "horizontal",
            "style": "IPY_MODEL_b6030204ee014785b9afdf9bdf35d705",
            "value": 7
          }
        },
        "b06f78ed74404f4eb581bc88e42ec5ef": {
          "model_module": "@jupyter-widgets/controls",
          "model_module_version": "1.5.0",
          "model_name": "HTMLModel",
          "state": {
            "_dom_classes": [],
            "_model_module": "@jupyter-widgets/controls",
            "_model_module_version": "1.5.0",
            "_model_name": "HTMLModel",
            "_view_count": null,
            "_view_module": "@jupyter-widgets/controls",
            "_view_module_version": "1.5.0",
            "_view_name": "HTMLView",
            "description": "",
            "description_tooltip": null,
            "layout": "IPY_MODEL_f75c526facc64a1c9852c44757e01c79",
            "placeholder": "​",
            "style": "IPY_MODEL_bbed92becdb34bd9bc8020159c05c281",
            "value": " 7/7 [02:35&lt;00:00, 17.70s/it]"
          }
        },
        "b6030204ee014785b9afdf9bdf35d705": {
          "model_module": "@jupyter-widgets/controls",
          "model_module_version": "1.5.0",
          "model_name": "ProgressStyleModel",
          "state": {
            "_model_module": "@jupyter-widgets/controls",
            "_model_module_version": "1.5.0",
            "_model_name": "ProgressStyleModel",
            "_view_count": null,
            "_view_module": "@jupyter-widgets/base",
            "_view_module_version": "1.2.0",
            "_view_name": "StyleView",
            "bar_color": null,
            "description_width": ""
          }
        },
        "bbed92becdb34bd9bc8020159c05c281": {
          "model_module": "@jupyter-widgets/controls",
          "model_module_version": "1.5.0",
          "model_name": "DescriptionStyleModel",
          "state": {
            "_model_module": "@jupyter-widgets/controls",
            "_model_module_version": "1.5.0",
            "_model_name": "DescriptionStyleModel",
            "_view_count": null,
            "_view_module": "@jupyter-widgets/base",
            "_view_module_version": "1.2.0",
            "_view_name": "StyleView",
            "description_width": ""
          }
        },
        "ce707d6b8b664298b24a5509ca010605": {
          "model_module": "@jupyter-widgets/controls",
          "model_module_version": "1.5.0",
          "model_name": "FloatProgressModel",
          "state": {
            "_dom_classes": [],
            "_model_module": "@jupyter-widgets/controls",
            "_model_module_version": "1.5.0",
            "_model_name": "FloatProgressModel",
            "_view_count": null,
            "_view_module": "@jupyter-widgets/controls",
            "_view_module_version": "1.5.0",
            "_view_name": "ProgressView",
            "bar_style": "",
            "description": "",
            "description_tooltip": null,
            "layout": "IPY_MODEL_f63325fa598d42848e60f963f7755895",
            "max": 65,
            "min": 0,
            "orientation": "horizontal",
            "style": "IPY_MODEL_27925f2208fd475c9599e0a1d4b1b300",
            "value": 65
          }
        },
        "cedeaa3a7a09457ab2b4ea4cc34565b3": {
          "model_module": "@jupyter-widgets/base",
          "model_module_version": "1.2.0",
          "model_name": "LayoutModel",
          "state": {
            "_model_module": "@jupyter-widgets/base",
            "_model_module_version": "1.2.0",
            "_model_name": "LayoutModel",
            "_view_count": null,
            "_view_module": "@jupyter-widgets/base",
            "_view_module_version": "1.2.0",
            "_view_name": "LayoutView",
            "align_content": null,
            "align_items": null,
            "align_self": null,
            "border": null,
            "bottom": null,
            "display": null,
            "flex": null,
            "flex_flow": null,
            "grid_area": null,
            "grid_auto_columns": null,
            "grid_auto_flow": null,
            "grid_auto_rows": null,
            "grid_column": null,
            "grid_gap": null,
            "grid_row": null,
            "grid_template_areas": null,
            "grid_template_columns": null,
            "grid_template_rows": null,
            "height": null,
            "justify_content": null,
            "justify_items": null,
            "left": null,
            "margin": null,
            "max_height": null,
            "max_width": null,
            "min_height": null,
            "min_width": null,
            "object_fit": null,
            "object_position": null,
            "order": null,
            "overflow": null,
            "overflow_x": null,
            "overflow_y": null,
            "padding": null,
            "right": null,
            "top": null,
            "visibility": null,
            "width": null
          }
        },
        "e409af16d9b5466d9b2934519680368c": {
          "model_module": "@jupyter-widgets/base",
          "model_module_version": "1.2.0",
          "model_name": "LayoutModel",
          "state": {
            "_model_module": "@jupyter-widgets/base",
            "_model_module_version": "1.2.0",
            "_model_name": "LayoutModel",
            "_view_count": null,
            "_view_module": "@jupyter-widgets/base",
            "_view_module_version": "1.2.0",
            "_view_name": "LayoutView",
            "align_content": null,
            "align_items": null,
            "align_self": null,
            "border": null,
            "bottom": null,
            "display": null,
            "flex": null,
            "flex_flow": null,
            "grid_area": null,
            "grid_auto_columns": null,
            "grid_auto_flow": null,
            "grid_auto_rows": null,
            "grid_column": null,
            "grid_gap": null,
            "grid_row": null,
            "grid_template_areas": null,
            "grid_template_columns": null,
            "grid_template_rows": null,
            "height": null,
            "justify_content": null,
            "justify_items": null,
            "left": null,
            "margin": null,
            "max_height": null,
            "max_width": null,
            "min_height": null,
            "min_width": null,
            "object_fit": null,
            "object_position": null,
            "order": null,
            "overflow": null,
            "overflow_x": null,
            "overflow_y": null,
            "padding": null,
            "right": null,
            "top": null,
            "visibility": null,
            "width": null
          }
        },
        "e42485522f6543858c216803519527cb": {
          "model_module": "@jupyter-widgets/controls",
          "model_module_version": "1.5.0",
          "model_name": "ToggleButtonsModel",
          "state": {
            "_dom_classes": [],
            "_model_module": "@jupyter-widgets/controls",
            "_model_module_version": "1.5.0",
            "_model_name": "ToggleButtonsModel",
            "_options_labels": [
              "Pipeline Plot",
              "Hyperparameters",
              "AUC",
              "Confusion Matrix",
              "Threshold",
              "Precision Recall",
              "Prediction Error",
              "Class Report",
              "Feature Selection",
              "Learning Curve",
              "Manifold Learning",
              "Calibration Curve",
              "Validation Curve",
              "Dimensions",
              "Feature Importance",
              "Feature Importance (All)",
              "Decision Boundary",
              "Lift Chart",
              "Gain Chart",
              "Decision Tree",
              "KS Statistic Plot"
            ],
            "_view_count": null,
            "_view_module": "@jupyter-widgets/controls",
            "_view_module_version": "1.5.0",
            "_view_name": "ToggleButtonsView",
            "button_style": "",
            "description": "Plot Type:",
            "description_tooltip": null,
            "disabled": false,
            "icons": [
              ""
            ],
            "index": 3,
            "layout": "IPY_MODEL_969c1973fb42466e9efbb863acf587c6",
            "style": "IPY_MODEL_8fa6947d351040d1b1dc3c6abc24de3a",
            "tooltips": []
          }
        },
        "e7fea7348c5a414db2259435811824b4": {
          "model_module": "@jupyter-widgets/controls",
          "model_module_version": "1.5.0",
          "model_name": "DescriptionStyleModel",
          "state": {
            "_model_module": "@jupyter-widgets/controls",
            "_model_module_version": "1.5.0",
            "_model_name": "DescriptionStyleModel",
            "_view_count": null,
            "_view_module": "@jupyter-widgets/base",
            "_view_module_version": "1.2.0",
            "_view_name": "StyleView",
            "description_width": ""
          }
        },
        "f63325fa598d42848e60f963f7755895": {
          "model_module": "@jupyter-widgets/base",
          "model_module_version": "1.2.0",
          "model_name": "LayoutModel",
          "state": {
            "_model_module": "@jupyter-widgets/base",
            "_model_module_version": "1.2.0",
            "_model_name": "LayoutModel",
            "_view_count": null,
            "_view_module": "@jupyter-widgets/base",
            "_view_module_version": "1.2.0",
            "_view_name": "LayoutView",
            "align_content": null,
            "align_items": null,
            "align_self": null,
            "border": null,
            "bottom": null,
            "display": null,
            "flex": null,
            "flex_flow": null,
            "grid_area": null,
            "grid_auto_columns": null,
            "grid_auto_flow": null,
            "grid_auto_rows": null,
            "grid_column": null,
            "grid_gap": null,
            "grid_row": null,
            "grid_template_areas": null,
            "grid_template_columns": null,
            "grid_template_rows": null,
            "height": null,
            "justify_content": null,
            "justify_items": null,
            "left": null,
            "margin": null,
            "max_height": null,
            "max_width": null,
            "min_height": null,
            "min_width": null,
            "object_fit": null,
            "object_position": null,
            "order": null,
            "overflow": null,
            "overflow_x": null,
            "overflow_y": null,
            "padding": null,
            "right": null,
            "top": null,
            "visibility": null,
            "width": null
          }
        },
        "f75c526facc64a1c9852c44757e01c79": {
          "model_module": "@jupyter-widgets/base",
          "model_module_version": "1.2.0",
          "model_name": "LayoutModel",
          "state": {
            "_model_module": "@jupyter-widgets/base",
            "_model_module_version": "1.2.0",
            "_model_name": "LayoutModel",
            "_view_count": null,
            "_view_module": "@jupyter-widgets/base",
            "_view_module_version": "1.2.0",
            "_view_name": "LayoutView",
            "align_content": null,
            "align_items": null,
            "align_self": null,
            "border": null,
            "bottom": null,
            "display": null,
            "flex": null,
            "flex_flow": null,
            "grid_area": null,
            "grid_auto_columns": null,
            "grid_auto_flow": null,
            "grid_auto_rows": null,
            "grid_column": null,
            "grid_gap": null,
            "grid_row": null,
            "grid_template_areas": null,
            "grid_template_columns": null,
            "grid_template_rows": null,
            "height": null,
            "justify_content": null,
            "justify_items": null,
            "left": null,
            "margin": null,
            "max_height": null,
            "max_width": null,
            "min_height": null,
            "min_width": null,
            "object_fit": null,
            "object_position": null,
            "order": null,
            "overflow": null,
            "overflow_x": null,
            "overflow_y": null,
            "padding": null,
            "right": null,
            "top": null,
            "visibility": null,
            "width": null
          }
        },
        "f7a7038654f844ffb2a5724b7c172808": {
          "model_module": "@jupyter-widgets/base",
          "model_module_version": "1.2.0",
          "model_name": "LayoutModel",
          "state": {
            "_model_module": "@jupyter-widgets/base",
            "_model_module_version": "1.2.0",
            "_model_name": "LayoutModel",
            "_view_count": null,
            "_view_module": "@jupyter-widgets/base",
            "_view_module_version": "1.2.0",
            "_view_name": "LayoutView",
            "align_content": null,
            "align_items": null,
            "align_self": null,
            "border": null,
            "bottom": null,
            "display": null,
            "flex": null,
            "flex_flow": null,
            "grid_area": null,
            "grid_auto_columns": null,
            "grid_auto_flow": null,
            "grid_auto_rows": null,
            "grid_column": null,
            "grid_gap": null,
            "grid_row": null,
            "grid_template_areas": null,
            "grid_template_columns": null,
            "grid_template_rows": null,
            "height": null,
            "justify_content": null,
            "justify_items": null,
            "left": null,
            "margin": null,
            "max_height": null,
            "max_width": null,
            "min_height": null,
            "min_width": null,
            "object_fit": null,
            "object_position": null,
            "order": null,
            "overflow": null,
            "overflow_x": null,
            "overflow_y": null,
            "padding": null,
            "right": null,
            "top": null,
            "visibility": null,
            "width": null
          }
        },
        "fa27cac2a74d41dbb91a00a9b49659d8": {
          "model_module": "@jupyter-widgets/base",
          "model_module_version": "1.2.0",
          "model_name": "LayoutModel",
          "state": {
            "_model_module": "@jupyter-widgets/base",
            "_model_module_version": "1.2.0",
            "_model_name": "LayoutModel",
            "_view_count": null,
            "_view_module": "@jupyter-widgets/base",
            "_view_module_version": "1.2.0",
            "_view_name": "LayoutView",
            "align_content": null,
            "align_items": null,
            "align_self": null,
            "border": null,
            "bottom": null,
            "display": null,
            "flex": null,
            "flex_flow": null,
            "grid_area": null,
            "grid_auto_columns": null,
            "grid_auto_flow": null,
            "grid_auto_rows": null,
            "grid_column": null,
            "grid_gap": null,
            "grid_row": null,
            "grid_template_areas": null,
            "grid_template_columns": null,
            "grid_template_rows": null,
            "height": null,
            "justify_content": null,
            "justify_items": null,
            "left": null,
            "margin": null,
            "max_height": null,
            "max_width": null,
            "min_height": null,
            "min_width": null,
            "object_fit": null,
            "object_position": null,
            "order": null,
            "overflow": null,
            "overflow_x": null,
            "overflow_y": null,
            "padding": null,
            "right": null,
            "top": null,
            "visibility": null,
            "width": null
          }
        }
      }
    }
  },
  "nbformat": 4,
  "nbformat_minor": 0
}
